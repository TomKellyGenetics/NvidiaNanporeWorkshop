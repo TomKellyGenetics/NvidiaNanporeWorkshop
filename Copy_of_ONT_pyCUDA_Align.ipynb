{
  "nbformat": 4,
  "nbformat_minor": 0,
  "metadata": {
    "colab": {
      "name": "Copy of ONT_pyCUDA_Align.ipynb",
      "provenance": [],
      "collapsed_sections": [],
      "include_colab_link": true
    },
    "kernelspec": {
      "name": "python3",
      "display_name": "Python 3"
    },
    "accelerator": "GPU"
  },
  "cells": [
    {
      "cell_type": "markdown",
      "metadata": {
        "id": "view-in-github",
        "colab_type": "text"
      },
      "source": [
        "<a href=\"https://colab.research.google.com/github/TomKellyGenetics/toy_snp_caller/blob/master/Copy_of_ONT_pyCUDA_Align.ipynb\" target=\"_parent\"><img src=\"https://colab.research.google.com/assets/colab-badge.svg\" alt=\"Open In Colab\"/></a>"
      ]
    },
    {
      "cell_type": "markdown",
      "metadata": {
        "id": "O3L9iwLrKLPc",
        "colab_type": "text"
      },
      "source": [
        "In this exercise we will be creating a python code to generate some artificial DNA sequences that will be our set of reference genes. We will then create a new sequence that is similar to one of the references and create a function that finds the best match. We will measure the performance of this code and then consider how we might create a GPU-accelerated version.\n",
        "\n",
        "First of all let's import a few libraries"
      ]
    },
    {
      "cell_type": "code",
      "metadata": {
        "id": "lfvOf5fgFnQ0",
        "colab_type": "code",
        "colab": {}
      },
      "source": [
        "import random\n",
        "import numpy as np\n",
        "import time"
      ],
      "execution_count": 0,
      "outputs": []
    },
    {
      "cell_type": "markdown",
      "metadata": {
        "id": "_H6SycDpG4KV",
        "colab_type": "text"
      },
      "source": [
        "Next, set up some constants to define the size of the problem"
      ]
    },
    {
      "cell_type": "code",
      "metadata": {
        "id": "lFc8YEaWHFv0",
        "colab_type": "code",
        "colab": {}
      },
      "source": [
        "REFERENCE_LENGTH = 500  # The length of the reference sequences\n",
        "SEQUENCE_LENGTH = 100    # The length of the sequence to be generated (before noise is added)\n",
        "NUMBER_REFERENCES = 100  # The number of references in which to find a match\n",
        "\n",
        "# Dictionary that converts the base letters to an integer\n",
        "ascii_to_index = {\"C\": 0, \"G\": 1, \"A\": 2, \"T\": 3}\n",
        "# Array that can be used to get the base letter from the integer value\n",
        "index_to_ascii = [\"C\", \"G\", \"A\", \"T\"]"
      ],
      "execution_count": 0,
      "outputs": []
    },
    {
      "cell_type": "markdown",
      "metadata": {
        "id": "QKpqNPN6IqSq",
        "colab_type": "text"
      },
      "source": [
        "Create a function to create a populate some artificial reference sequences, which we will be searching for the best alignment"
      ]
    },
    {
      "cell_type": "code",
      "metadata": {
        "id": "ok8LeC2cJwtG",
        "colab_type": "code",
        "colab": {}
      },
      "source": [
        "# Randomly assign CAGTs to the reference sequences\n",
        "def initialise_references():\n",
        "    refs = []\n",
        "\n",
        "    for i in range(NUMBER_REFERENCES):\n",
        "        ref = \"\"\n",
        "        for j in range(REFERENCE_LENGTH):\n",
        "            irand = random.randint(0, 3)\n",
        "            ref += index_to_ascii[irand]\n",
        "\n",
        "        refs.append(ref)\n",
        "\n",
        "    return refs\n"
      ],
      "execution_count": 0,
      "outputs": []
    },
    {
      "cell_type": "markdown",
      "metadata": {
        "id": "KtbeHdTFLDM0",
        "colab_type": "text"
      },
      "source": [
        "Now we are going to generate the sequence to match by randomly selecting one of the reference sequences and then adding some noise to it."
      ]
    },
    {
      "cell_type": "code",
      "metadata": {
        "id": "G81L_ch6LfOz",
        "colab_type": "code",
        "colab": {}
      },
      "source": [
        "# Randomly pick one of the references, pick an offset and\n",
        "# add noise - this will be the sequence we'll seek\n",
        "def initialise_sequence(references):\n",
        "\n",
        "    seq = \"\"\n",
        "    # randomly select the reference string to match\n",
        "    iref = random.randint(0, NUMBER_REFERENCES-1)\n",
        "    ref_offset = random.randint(0,REFERENCE_LENGTH - SEQUENCE_LENGTH)\n",
        "    print(\"Actual offset = \" + str(ref_offset) + \" on sequence #\" + str(iref))\n",
        "    ref = references[iref]\n",
        "    dels = 0\n",
        "    subs = 0\n",
        "    ins = 0\n",
        "\n",
        "    for i in range(ref_offset, ref_offset+SEQUENCE_LENGTH):\n",
        "        base = ref[i]\n",
        "        i_rand = random.randint(0, 1000)\n",
        "\n",
        "        if (i_rand < 22):\n",
        "            # Insertion of up to 4 characters\n",
        "            i_len = random.randint(0, 3)\n",
        "            ins += i_len\n",
        "            cnew=\"\"\n",
        "            for i in range(i_len):\n",
        "                irand = random.randrange(0, 3)\n",
        "                cnew += index_to_ascii[irand]\n",
        "\n",
        "            seq+=cnew + base\n",
        "        elif (i_rand < 44):\n",
        "            subs += 1\n",
        "            # Substitute the current character\n",
        "            inew = random.randint(0, 2)\n",
        "            if (base == \"A\"):\n",
        "                cnew = index_to_ascii[inew if (inew == 2) else 3]\n",
        "            elif (base == \"T\"):\n",
        "                cnew = index_to_ascii[inew]\n",
        "            elif (base == \"C\"):\n",
        "                cnew = index_to_ascii[inew+1]\n",
        "            else:\n",
        "                cnew = index_to_ascii[inew if (inew == 1) else 0]\n",
        "\n",
        "            seq+=cnew\n",
        "        elif (i_rand < 66):\n",
        "            # Deletion\n",
        "            dels += 1\n",
        "        else:\n",
        "            seq += base\n",
        "\n",
        "    print(str(subs) + \" subs, \" + str(dels) + \" dels,\" + str(ins) + \" ins\")\n",
        "    print(ref)\n",
        "    print(seq)\n",
        "\n",
        "    return seq\n"
      ],
      "execution_count": 0,
      "outputs": []
    },
    {
      "cell_type": "markdown",
      "metadata": {
        "id": "zwrAMsg8hGcb",
        "colab_type": "text"
      },
      "source": [
        "Next, create a cost function. In this case it is simple +1 for a match and -1 for anything else (insertion, deletion or substitution)"
      ]
    },
    {
      "cell_type": "code",
      "metadata": {
        "id": "r1Q31u9ZhUEg",
        "colab_type": "code",
        "colab": {}
      },
      "source": [
        "def cost(char1, char2):\n",
        "  return -1 if char1!=char2 else +1"
      ],
      "execution_count": 0,
      "outputs": []
    },
    {
      "cell_type": "markdown",
      "metadata": {
        "id": "fBeijbzML2ku",
        "colab_type": "text"
      },
      "source": [
        "Next we create the main alignment function"
      ]
    },
    {
      "cell_type": "code",
      "metadata": {
        "id": "Nyk80VYYMPqa",
        "colab_type": "code",
        "colab": {}
      },
      "source": [
        "# Compute a cost and, optionally, an offset for the semi-global alignment of seq to ref\n",
        "def align(seq, ref, matrix, trace, compute_trace=False):\n",
        "\n",
        "    max_score = -len(seq)\n",
        "    max_idx = 0\n",
        "\n",
        "    # Initialise the scoring matrices\n",
        "    for i in range(len(seq)):\n",
        "        matrix[i] = -(i+1)\n",
        "        if compute_trace:\n",
        "            trace[i, 0] = -i\n",
        "\n",
        "    # Do the NW matrix calculation (column by column - to preserve memory)\n",
        "    for i, base_r in enumerate(ref):\n",
        "        top_left = 0\n",
        "        bottom_left = matrix[0]\n",
        "        top_right = 0\n",
        "        for j, base_s in enumerate(seq):\n",
        "            cost_m = cost(base_s, base_r) + top_left\n",
        "            cost_i = bottom_left - 1\n",
        "            cost_d = top_right - 1\n",
        "            top_left = matrix[j]\n",
        "            matrix[j] = max(cost_m, cost_i, cost_d)\n",
        "            bottom_left = matrix[j+1]\n",
        "            top_right = matrix[j]\n",
        "\n",
        "            if compute_trace:\n",
        "                if cost_m >= cost_i:\n",
        "                    if cost_m >= cost_d:\n",
        "                        trace[i + 1, j + 1] = [i, j]\n",
        "                    else:\n",
        "                        trace[i + 1, j + 1] = [i + 1, j]\n",
        "                else:\n",
        "                    if cost_i >= cost_d:\n",
        "                        trace[i + 1, j + 1] = [i, j + 1]\n",
        "                    else:\n",
        "                        trace[i + 1, j + 1] = [i + 1, j]\n",
        "\n",
        "        if matrix[len(seq)-1] > max_score:\n",
        "            max_score = matrix[len(seq)-1]\n",
        "            max_idx = i\n",
        "\n",
        "    return max_score, trace, max_idx\n"
      ],
      "execution_count": 0,
      "outputs": []
    },
    {
      "cell_type": "markdown",
      "metadata": {
        "id": "3kbd3nQAMVKN",
        "colab_type": "text"
      },
      "source": [
        "We also need a function to compute the cost of the aligment using the back-tracking part of the Needleman-Wunsch algorithm"
      ]
    },
    {
      "cell_type": "code",
      "metadata": {
        "id": "lwHS8DvQMjMY",
        "colab_type": "code",
        "colab": {}
      },
      "source": [
        "# Use the traceback to get the offset\n",
        "def compute_offset(traceback, len_seq, ref, max_idx):\n",
        "\n",
        "    match = \"\"\n",
        "    idx = max_idx\n",
        "    ls = len_seq\n",
        "\n",
        "    # Traceback to get the offset\n",
        "    while ls > 0:\n",
        "        match = ref[idx - 1] + match\n",
        "        idx, ls = traceback[idx, ls]\n",
        "        #print(idx, ls)\n",
        "\n",
        "    return idx\n",
        "\n"
      ],
      "execution_count": 0,
      "outputs": []
    },
    {
      "cell_type": "markdown",
      "metadata": {
        "id": "2-WQfdKsND_G",
        "colab_type": "text"
      },
      "source": [
        "Right, now we have all the main functions defined we can create the main body of the program that will execute the functions we defined in order to find the best alignment between our references and the noisy sequence."
      ]
    },
    {
      "cell_type": "code",
      "metadata": {
        "id": "qZYqMZeJNbw2",
        "colab_type": "code",
        "colab": {}
      },
      "source": [
        "offset = 0\n",
        "score = 0\n",
        "max_score = 0\n",
        "ref_idx = 0\n",
        "time_span = 0\n",
        "\n",
        "# For degugging, it can be helpful to set the seed so that the same strings are produced each time\n",
        "#random.seed(30)\n",
        "\n",
        "t1 = time.time()\n",
        "\n",
        "refs = initialise_references()\n",
        "seq = initialise_sequence(refs)\n",
        "\n",
        "# Create arrays for the scoring matrix and traceback matrix\n",
        "score_matrix = np.zeros(len(seq) + 1, dtype=np.int32)\n",
        "trace_matrix = np.zeros((REFERENCE_LENGTH+1, len(seq) + 1, 2), dtype=np.int32)\n",
        "max_score = -len(seq)\n",
        "\n",
        "time_span = time.time() - t1\n",
        "print(\"Data initialisation took \" + str(time_span) + \" milliseconds.\")\n",
        "\n",
        "# Run alignment on the host\n",
        "t1 = time.time()\n",
        "\n",
        "scores=[]\n",
        "for i in range(NUMBER_REFERENCES):\n",
        "    score, _, _ = align(seq, refs[i], score_matrix, trace_matrix)\n",
        "    scores.append(score)\n",
        "    if score > max_score:\n",
        "        max_score = score\n",
        "        ref_idx = i\n",
        "\n",
        "# now get offset\n",
        "score, trace_matrix, offset_idx = align(seq, refs[ref_idx], score_matrix, trace_matrix, compute_trace=True)\n",
        "offset = compute_offset(trace_matrix, len(seq), refs[ref_idx], offset_idx)\n",
        "print(\"Optimal cost of \" + str(max_score) + \" found at offset \" + str(offset) + \" in reference \" + str(ref_idx))\n",
        "time_span = time.time() - t1\n",
        "print(\"Serial took \" + str(time_span) + \" seconds\")"
      ],
      "execution_count": 0,
      "outputs": []
    },
    {
      "cell_type": "markdown",
      "metadata": {
        "id": "E09u_dqcnpk9",
        "colab_type": "text"
      },
      "source": [
        "Great - now can you create a kernel to do the alignment? Have a think for 10 minutes before you start implementing anything.\n",
        "\n",
        "We also need to install pycuda and to import the libraries (for this, insert a scratch code window and type 'pip install pycuda')\n"
      ]
    },
    {
      "cell_type": "code",
      "metadata": {
        "id": "imRR-O-0n50f",
        "colab_type": "code",
        "colab": {}
      },
      "source": [
        "import pycuda.driver as cuda\n",
        "import pycuda.autoinit\n",
        "from pycuda.compiler import SourceModule\n",
        "from pycuda import gpuarray\n",
        "\n",
        "# Create your kernel (or kernels)\n",
        "myfunc = SourceModule(\"\"\"\n",
        "__global__ void ...\n",
        "{\n",
        "    \n",
        "}\n",
        "\"\"\")"
      ],
      "execution_count": 0,
      "outputs": []
    },
    {
      "cell_type": "markdown",
      "metadata": {
        "id": "A15_xWpvrpiT",
        "colab_type": "text"
      },
      "source": [
        "Now create the calling code in Python (you can leave all the other functions as they were)"
      ]
    },
    {
      "cell_type": "code",
      "metadata": {
        "id": "9TM6sHA5rvTC",
        "colab_type": "code",
        "colab": {}
      },
      "source": [
        "# Now run the same using our kernel\n",
        "t1 = time.time()\n",
        "\n",
        "#TODO - Insert data preparation code\n",
        "\n",
        "time_span = time.time() - t1\n",
        "print(\"Data initialisation took \" + str(time_span) + \" milliseconds.\")\n",
        "\n",
        "t1 = time.time()\n",
        "\n",
        "#TODO Insert alignment code\n",
        "\n",
        "# now get offset on the best reference match\n",
        "score, trace_matrix, offset_idx = align(seq, refs[max_idx], score_matrix, trace_matrix, compute_trace=True)\n",
        "\n",
        "offset = compute_offset(trace_matrix, len(seq), refs[max_idx], offset_idx)\n",
        "print(\"Optimal cost of \" + str(max_s) + \" found at offset \" + str(offset) + \" in reference \" + str(ref_idx))\n",
        "time_span = time.time() - t1\n",
        "print(\"CUDA version took \" + str(time_span) + \" seconds\")"
      ],
      "execution_count": 0,
      "outputs": []
    }
  ]
}