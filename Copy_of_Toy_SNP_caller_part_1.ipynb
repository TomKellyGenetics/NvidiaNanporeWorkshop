{
  "nbformat": 4,
  "nbformat_minor": 0,
  "metadata": {
    "accelerator": "GPU",
    "colab": {
      "name": "Copy of Toy_SNP_caller_part_1",
      "provenance": [],
      "collapsed_sections": [],
      "include_colab_link": true
    },
    "kernelspec": {
      "display_name": "Python 3",
      "language": "python",
      "name": "python3"
    },
    "language_info": {
      "codemirror_mode": {
        "name": "ipython",
        "version": 3
      },
      "file_extension": ".py",
      "mimetype": "text/x-python",
      "name": "python",
      "nbconvert_exporter": "python",
      "pygments_lexer": "ipython3",
      "version": "3.7.4"
    }
  },
  "cells": [
    {
      "cell_type": "markdown",
      "metadata": {
        "id": "view-in-github",
        "colab_type": "text"
      },
      "source": [
        "<a href=\"https://colab.research.google.com/github/TomKellyGenetics/toy_snp_caller/blob/master/Copy_of_Toy_SNP_caller_part_1.ipynb\" target=\"_parent\"><img src=\"https://colab.research.google.com/assets/colab-badge.svg\" alt=\"Open In Colab\"/></a>"
      ]
    },
    {
      "cell_type": "code",
      "metadata": {
        "colab_type": "code",
        "id": "PGJaC2sPtoY8",
        "colab": {}
      },
      "source": [
        "import random\n",
        "import numpy as np\n",
        "NUCLEOTIDES = \"ACGT\"\n",
        "random.seed(1)"
      ],
      "execution_count": 0,
      "outputs": []
    },
    {
      "cell_type": "markdown",
      "metadata": {
        "colab_type": "text",
        "id": "UQeH0YWswtey"
      },
      "source": [
        "# Function to simulate multiple sequence alignments with errors and either no SNP or heterozygous SNP"
      ]
    },
    {
      "cell_type": "code",
      "metadata": {
        "colab_type": "code",
        "id": "BDaOD0ggttm2",
        "colab": {}
      },
      "source": [
        "def simulate_alignments(reference_length=200, num_alignments = 20000, \n",
        "                        coverage = 100, p_sequencing_error = 0.0,\n",
        "                        p_alignment_error = 0.0):\n",
        "    alignments = []\n",
        "    mutation_types = []\n",
        "    \n",
        "    for i in range(num_alignments):\n",
        "        snp_index = reference_length // 2\n",
        "        if (i % 400 == 0):\n",
        "            print(\"Computing alignment \", i)\n",
        "        reference = [random.choice(NUCLEOTIDES) for _ in range(reference_length)]\n",
        "        reference_base_at_snp = reference[snp_index]\n",
        "        snp_base = random.choice([i for i in NUCLEOTIDES if i != reference_base_at_snp])\n",
        "        mutation_type=random.choice([0,1,2]) # 0 -> no SNP; 1 -> Homozygous SNP; 2 -> Heterozygous SNP\n",
        "        mutation_types.append(mutation_type)\n",
        "        \n",
        "        alignment = [reference]#first read is always the reference\n",
        "        for _ in range(coverage):\n",
        "            new_read = [reference[i] if random.random() > p_sequencing_error else random.choice(NUCLEOTIDES) for i in range(reference_length)]\n",
        "            if random.random() < p_alignment_error:\n",
        "                snp_index += random.randint(-1,2)\n",
        "            if mutation_type == 1: #homozygous SNP\n",
        "                new_read[snp_index] = snp_base\n",
        "            if mutation_type == 2 and random.random() > 0.5: # heterozygous SNP\n",
        "                new_read[snp_index] = snp_base\n",
        "\n",
        "            if random.random() < p_sequencing_error: #Add errors to SNP region also\n",
        "                new_read[snp_index] =  random.choice(NUCLEOTIDES)\n",
        "            alignment.append(new_read)\n",
        "        alignments.append(alignment)\n",
        "    return alignments, mutation_types"
      ],
      "execution_count": 0,
      "outputs": []
    },
    {
      "cell_type": "code",
      "metadata": {
        "colab_type": "code",
        "id": "pD986DmYtvSN",
        "outputId": "fe64006d-4037-4506-ac0f-9091b5abe033",
        "colab": {
          "base_uri": "https://localhost:8080/",
          "height": 102
        }
      },
      "source": [
        "# Compute 2000 alignments\n",
        "alignments, mutation_types = simulate_alignments(num_alignments=2000)\n",
        "alignments = np.array(alignments)"
      ],
      "execution_count": 3,
      "outputs": [
        {
          "output_type": "stream",
          "text": [
            "Computing alignment  0\n",
            "Computing alignment  400\n",
            "Computing alignment  800\n",
            "Computing alignment  1200\n",
            "Computing alignment  1600\n"
          ],
          "name": "stdout"
        }
      ]
    },
    {
      "cell_type": "markdown",
      "metadata": {
        "colab_type": "text",
        "id": "1y3y129ht30z"
      },
      "source": [
        "# Visualise the alignments"
      ]
    },
    {
      "cell_type": "code",
      "metadata": {
        "colab_type": "code",
        "id": "eNTYDrvzt3K5",
        "colab": {}
      },
      "source": [
        "import matplotlib.pyplot as plt\n",
        "%matplotlib inline"
      ],
      "execution_count": 0,
      "outputs": []
    },
    {
      "cell_type": "code",
      "metadata": {
        "colab_type": "code",
        "id": "doQE5d7jt_EU",
        "colab": {}
      },
      "source": [
        "transdict = {\"A\":0, \"C\": 1, \"G\":2, \"T\":3}\n",
        "alignments_ints = np.vectorize(transdict.get)(alignments)\n",
        "plt.rcParams['figure.dpi'] = 200"
      ],
      "execution_count": 0,
      "outputs": []
    },
    {
      "cell_type": "markdown",
      "metadata": {
        "id": "OyuYqf2s2qDd",
        "colab_type": "text"
      },
      "source": [
        "## Example one: No mutation - no  errors"
      ]
    },
    {
      "cell_type": "code",
      "metadata": {
        "colab_type": "code",
        "id": "jyVMnxBOuBpt",
        "outputId": "fa884595-9f00-4acf-cbea-220fa2dbcd64",
        "colab": {
          "base_uri": "https://localhost:8080/",
          "height": 599
        }
      },
      "source": [
        "alignment_idx = 1\n",
        "plt.imshow(alignments_ints[alignment_idx],cmap='jet')\n",
        "mutation_type_names = {0: \"No mutation\",\n",
        "                 1: \"Homozygous SNP\",\n",
        "                 2: \"Heterozygous SNP\"}\n",
        "print (\"Mutation type: \", mutation_type_names[mutation_types[alignment_idx]])"
      ],
      "execution_count": 6,
      "outputs": [
        {
          "output_type": "stream",
          "text": [
            "Mutation type:  No mutation\n"
          ],
          "name": "stdout"
        },
        {
          "output_type": "display_data",
          "data": {
            "image/png": "[encoded data removed]",
            "text/plain": [
              "<Figure size 1200x800 with 1 Axes>"
            ]
          },
          "metadata": {
            "tags": []
          }
        }
      ]
    },
    {
      "cell_type": "markdown",
      "metadata": {
        "id": "58iYp7Ls2qDg",
        "colab_type": "text"
      },
      "source": [
        "## Example 2: Heterozygous mutation - no errors"
      ]
    },
    {
      "cell_type": "code",
      "metadata": {
        "id": "B2jkCdmf2qDg",
        "colab_type": "code",
        "outputId": "78cfd74c-2917-40c3-cd5a-e06418a56395",
        "colab": {
          "base_uri": "https://localhost:8080/",
          "height": 599
        }
      },
      "source": [
        "alignment_idx = 5\n",
        "plt.imshow(alignments_ints[alignment_idx],cmap='jet')\n",
        "mutation_type_names = {0: \"No mutation\",\n",
        "                 1: \"Homozygous SNP\",\n",
        "                 2: \"Heterozygous SNP\"}\n",
        "print (\"Mutation type: \", mutation_type_names[mutation_types[alignment_idx]])"
      ],
      "execution_count": 7,
      "outputs": [
        {
          "output_type": "stream",
          "text": [
            "Mutation type:  Heterozygous SNP\n"
          ],
          "name": "stdout"
        },
        {
          "output_type": "display_data",
          "data": {
            "image/png": "[encoded data removed]",
            "text/plain": [
              "<Figure size 1200x800 with 1 Axes>"
            ]
          },
          "metadata": {
            "tags": []
          }
        }
      ]
    },
    {
      "cell_type": "markdown",
      "metadata": {
        "id": "8WNzmPA72qDk",
        "colab_type": "text"
      },
      "source": [
        "## Example 3: Homozygous mutation - no errors"
      ]
    },
    {
      "cell_type": "code",
      "metadata": {
        "id": "CIiZnYzf2qDk",
        "colab_type": "code",
        "outputId": "08377833-8e4c-447e-cd75-be381a138590",
        "colab": {
          "base_uri": "https://localhost:8080/",
          "height": 599
        }
      },
      "source": [
        "alignment_idx = 8\n",
        "plt.imshow(alignments_ints[alignment_idx],cmap='jet')\n",
        "mutation_type_names = {0: \"No mutation\",\n",
        "                 1: \"Homozygous SNP\",\n",
        "                 2: \"Heterozygous SNP\"}\n",
        "print (\"Mutation type: \", mutation_type_names[mutation_types[alignment_idx]])"
      ],
      "execution_count": 8,
      "outputs": [
        {
          "output_type": "stream",
          "text": [
            "Mutation type:  Homozygous SNP\n"
          ],
          "name": "stdout"
        },
        {
          "output_type": "display_data",
          "data": {
            "image/png": "[encoded data removed]",
            "text/plain": [
              "<Figure size 1200x800 with 1 Axes>"
            ]
          },
          "metadata": {
            "tags": []
          }
        }
      ]
    },
    {
      "cell_type": "code",
      "metadata": {
        "id": "M0mM-Ysm2qDm",
        "colab_type": "code",
        "outputId": "fe021770-f3be-4c35-e926-9d2d0f8b87c6",
        "colab": {
          "base_uri": "https://localhost:8080/",
          "height": 102
        }
      },
      "source": [
        "# Compute 2000 alignments\n",
        "alignments, mutation_types = simulate_alignments(num_alignments=2000, p_alignment_error=0.05, p_sequencing_error=0.15)\n",
        "alignments = np.array(alignments)\n",
        "transdict = {\"A\":0, \"C\": 1, \"G\":2, \"T\":3}\n",
        "alignments_ints = np.vectorize(transdict.get)(alignments)\n",
        "plt.rcParams['figure.dpi'] = 200"
      ],
      "execution_count": 9,
      "outputs": [
        {
          "output_type": "stream",
          "text": [
            "Computing alignment  0\n",
            "Computing alignment  400\n",
            "Computing alignment  800\n",
            "Computing alignment  1200\n",
            "Computing alignment  1600\n"
          ],
          "name": "stdout"
        }
      ]
    },
    {
      "cell_type": "markdown",
      "metadata": {
        "id": "GKH-bZyj2qDp",
        "colab_type": "text"
      },
      "source": [
        "# Example 4: No mutations, sequencing and alignment error"
      ]
    },
    {
      "cell_type": "code",
      "metadata": {
        "id": "bqDDz3ih2qDp",
        "colab_type": "code",
        "outputId": "a1cd2b8f-b261-4a70-876e-9987367376b9",
        "colab": {
          "base_uri": "https://localhost:8080/",
          "height": 599
        }
      },
      "source": [
        "alignment_idx = 3\n",
        "plt.imshow(alignments_ints[alignment_idx],cmap='jet')\n",
        "mutation_type_names = {0: \"No mutation\",\n",
        "                 1: \"Homozygous SNP\",\n",
        "                 2: \"Heterozygous SNP\"}\n",
        "print (\"Mutation type: \", mutation_type_names[mutation_types[alignment_idx]])"
      ],
      "execution_count": 10,
      "outputs": [
        {
          "output_type": "stream",
          "text": [
            "Mutation type:  No mutation\n"
          ],
          "name": "stdout"
        },
        {
          "output_type": "display_data",
          "data": {
            "image/png": "[encoded data removed]",
            "text/plain": [
              "<Figure size 1200x800 with 1 Axes>"
            ]
          },
          "metadata": {
            "tags": []
          }
        }
      ]
    },
    {
      "cell_type": "markdown",
      "metadata": {
        "id": "ejsLcCZ1kPts",
        "colab_type": "text"
      },
      "source": [
        "# Exercises\n",
        "\n",
        "1. Wite a neural network to classify SNPs into homozygous, heterozygous and no mutaiton in the absence of no errors\n",
        "2. Measure its robustness to sequencing error\n",
        "3. Measure its robustness to \"alignment error\"\n",
        "4. How well does a model trained on one error rate perform on another? Can this model be made more robust for the \"real world\"?"
      ]
    },
    {
      "cell_type": "markdown",
      "metadata": {
        "id": "YHs-tPeMDhyZ",
        "colab_type": "text"
      },
      "source": [
        "Exercise: to call variants\n",
        "\n",
        "- call homozygous or heterozygous (ignore sequencing errors)"
      ]
    },
    {
      "cell_type": "markdown",
      "metadata": {
        "id": "oJAaAIr1Ds1Y",
        "colab_type": "text"
      },
      "source": [
        "Test with MNIST data with 28x28 pixels for each sample (60,000 training, 10,000 test) for 10 groups"
      ]
    },
    {
      "cell_type": "code",
      "metadata": {
        "id": "z_8IyITiDrzY",
        "colab_type": "code",
        "colab": {
          "base_uri": "https://localhost:8080/",
          "height": 34
        },
        "outputId": "f556397f-90b5-4aee-a159-2cf9aea00a6f"
      },
      "source": [
        "#configure keras\n",
        "\n",
        "from __future__ import print_function\n",
        "import keras\n",
        "from keras.datasets import mnist\n",
        "from keras.models import Sequential\n",
        "from keras.layers import Dense, Dropout, Flatten\n",
        "from keras.layers import Conv2D, MaxPooling2D\n",
        "from keras import backend as K\n",
        "\n",
        "batch_size = 128\n",
        "num_classes = 10\n",
        "epochs = 12"
      ],
      "execution_count": 11,
      "outputs": [
        {
          "output_type": "stream",
          "text": [
            "Using TensorFlow backend.\n"
          ],
          "name": "stderr"
        }
      ]
    },
    {
      "cell_type": "code",
      "metadata": {
        "id": "KvCCyBP0D7Xr",
        "colab_type": "code",
        "colab": {}
      },
      "source": [
        "#Input data\n",
        "\n",
        "# input image dimensions\n",
        "img_rows, img_cols = 28, 28\n",
        "\n",
        "# the data, split between train and test sets\n",
        "(x_train, y_train), (x_test, y_test) = mnist.load_data()"
      ],
      "execution_count": 0,
      "outputs": []
    },
    {
      "cell_type": "code",
      "metadata": {
        "id": "ZO_Xbg2VG5eC",
        "colab_type": "code",
        "colab": {
          "base_uri": "https://localhost:8080/",
          "height": 1000
        },
        "outputId": "3ddea5a8-95a5-4cc6-b588-06718d66d6e1"
      },
      "source": [
        "x_train[1:10, 1:10, 1:10]"
      ],
      "execution_count": 13,
      "outputs": [
        {
          "output_type": "execute_result",
          "data": {
            "text/plain": [
              "array([[[  0,   0,   0,   0,   0,   0,   0,   0,   0],\n",
              "        [  0,   0,   0,   0,   0,   0,   0,   0,   0],\n",
              "        [  0,   0,   0,   0,   0,   0,   0,   0,   0],\n",
              "        [  0,   0,   0,   0,   0,   0,   0,   0,   0],\n",
              "        [  0,   0,   0,   0,   0,   0,   0,   0,   0],\n",
              "        [  0,   0,   0,   0,   0,   0,   0,   0,   0],\n",
              "        [  0,   0,   0,   0,   0,   0,   0,   0,   0],\n",
              "        [  0,   0,   0,   0,   0,   0,   0,   0,   0],\n",
              "        [  0,   0,   0,   0,   0,   0,   0,   0,   0]],\n",
              "\n",
              "       [[  0,   0,   0,   0,   0,   0,   0,   0,   0],\n",
              "        [  0,   0,   0,   0,   0,   0,   0,   0,   0],\n",
              "        [  0,   0,   0,   0,   0,   0,   0,   0,   0],\n",
              "        [  0,   0,   0,   0,   0,   0,   0,   0,   0],\n",
              "        [  0,   0,   0,   0,   0,   0,   0,   0,   0],\n",
              "        [  0,   0,   0,  62,  81,   0,   0,   0,   0],\n",
              "        [  0,   0,   0, 126, 163,   0,   0,   0,   0],\n",
              "        [  0,   0,   0, 220, 163,   0,   0,   0,   0],\n",
              "        [  0,   0,   0, 222, 163,   0,   0,   0,   0]],\n",
              "\n",
              "       [[  0,   0,   0,   0,   0,   0,   0,   0,   0],\n",
              "        [  0,   0,   0,   0,   0,   0,   0,   0,   0],\n",
              "        [  0,   0,   0,   0,   0,   0,   0,   0,   0],\n",
              "        [  0,   0,   0,   0,   0,   0,   0,   0,   0],\n",
              "        [  0,   0,   0,   0,   0,   0,   0,   0,   0],\n",
              "        [  0,   0,   0,   0,   0,   0,   0,   0,   0],\n",
              "        [  0,   0,   0,   0,   0,   0,   0,   0,   0],\n",
              "        [  0,   0,   0,   0,   0,   0,   0,   0,   0],\n",
              "        [  0,   0,   0,   0,   0,   0,   0,   0,   0]],\n",
              "\n",
              "       [[  0,   0,   0,   0,   0,   0,   0,   0,   0],\n",
              "        [  0,   0,   0,   0,   0,   0,   0,   0,   0],\n",
              "        [  0,   0,   0,   0,   0,   0,   0,   0,   0],\n",
              "        [  0,   0,   0,   0,   0,   0,   0,   0,   0],\n",
              "        [  0,   0,   0,   0,   0,   0,   0,   0,   0],\n",
              "        [  0,   0,   0,   0,   0,   0,   0,   0,   0],\n",
              "        [  0,   0,   0,   0,   0,   0,   0,   0,   0],\n",
              "        [  0,   0,   0,   0,   0,   0,   0,   0,   0],\n",
              "        [  0,   0,   0,   0,   0,   0,   0,   0,   4]],\n",
              "\n",
              "       [[  0,   0,   0,   0,   0,   0,   0,   0,   0],\n",
              "        [  0,   0,   0,   0,   0,   0,   0,   0,   0],\n",
              "        [  0,   0,   0,   0,   0,   0,   0,   0,   0],\n",
              "        [  0,   0,   0,   0,   0,   0,   0,   0,   0],\n",
              "        [  0,   0,   0,   0,   0,   0,   0,   0,   0],\n",
              "        [  0,   0,   0,   0,   0,   0,   0,   0,   0],\n",
              "        [  0,   0,   0,   0,   0,   0,   0,   0,   0],\n",
              "        [  0,   0,   0,   0,   0,   0,   0,   0,  15],\n",
              "        [  0,   0,   0,   0,   0,   0,   0,   0,  96]],\n",
              "\n",
              "       [[  0,   0,   0,   0,   0,   0,   0,   0,   0],\n",
              "        [  0,   0,   0,   0,   0,   0,   0,   0,   0],\n",
              "        [  0,   0,   0,   0,   0,   0,   0,   0,   0],\n",
              "        [  0,   0,   0,   0,   0,   0,   0,   0,   0],\n",
              "        [  0,   0,   0,   0,   0,   0,   0,   0,   0],\n",
              "        [  0,   0,   0,   0,   0,   0,   0,   0,   0],\n",
              "        [  0,   0,   0,   0,   0,   0,   0,   0,   0],\n",
              "        [  0,   0,   0,   0,   0,   0,   0,   0,   0],\n",
              "        [  0,   0,   0,   0,   0,   0,   0,   0,   0]],\n",
              "\n",
              "       [[  0,   0,   0,   0,   0,   0,   0,   0,   0],\n",
              "        [  0,   0,   0,   0,   0,   0,   0,   0,   0],\n",
              "        [  0,   0,   0,   0,   0,   0,   0,   0,   0],\n",
              "        [  0,   0,   0,   0,   0,   0,   0,   0,   0],\n",
              "        [  0,   0,   0,   0,   0,   0,   0,   0,   0],\n",
              "        [  0,   0,   0,   0,   0,   0,   0,   0,  43],\n",
              "        [  0,   0,   0,   0,   0,   0,   0,   0, 178],\n",
              "        [  0,   0,   0,   0,   0,   0,   0,   0, 109],\n",
              "        [  0,   0,   0,   0,   0,   0,   0,   0,   4]],\n",
              "\n",
              "       [[  0,   0,   0,   0,   0,   0,   0,   0,   0],\n",
              "        [  0,   0,   0,   0,   0,   0,   0,   0,   0],\n",
              "        [  0,   0,   0,   0,   0,   0,   0,   0,   0],\n",
              "        [  0,   0,   0,   0,   0,   0,   0,   0,   0],\n",
              "        [  0,   0,   0,   0,   0,   0,   0,   0,   0],\n",
              "        [  0,   0,   0,   0,   0,   0,   0,   0,   0],\n",
              "        [  0,   0,   0,   0,   0,   0,   0,   0,   0],\n",
              "        [  0,   0,   0,   0,   0,   0,   0,   0,   0],\n",
              "        [  0,   0,   0,   0,   0,   0,   0,   0,   0]],\n",
              "\n",
              "       [[  0,   0,   0,   0,   0,   0,   0,   0,   0],\n",
              "        [  0,   0,   0,   0,   0,   0,   0,   0,   0],\n",
              "        [  0,   0,   0,   0,   0,   0,   0,   0,   0],\n",
              "        [  0,   0,   0,   0,   0,   0,   0,   0,   0],\n",
              "        [  0,   0,   0,   0,   0,   0,   0,   0,   0],\n",
              "        [  0,   0,   0,   0,   0,   0,   0,   0,   0],\n",
              "        [  0,   0,   0,   0,   0,   0,   0,   0,   0],\n",
              "        [  0,   0,   0,   0,   0,   0,   0,   0,   0],\n",
              "        [  0,   0,   0,   0,   0,   0,   0,   0,   0]]], dtype=uint8)"
            ]
          },
          "metadata": {
            "tags": []
          },
          "execution_count": 13
        }
      ]
    },
    {
      "cell_type": "code",
      "metadata": {
        "id": "AvUZwTqLD-6V",
        "colab_type": "code",
        "colab": {
          "base_uri": "https://localhost:8080/",
          "height": 68
        },
        "outputId": "343bc57e-12ab-489d-d255-27e6635d1470"
      },
      "source": [
        "#format data\n",
        "\n",
        "if K.image_data_format() == 'channels_first':\n",
        "    x_train = x_train.reshape(x_train.shape[0], 1, img_rows, img_cols)\n",
        "    x_test = x_test.reshape(x_test.shape[0], 1, img_rows, img_cols)\n",
        "    input_shape = (1, img_rows, img_cols)\n",
        "else:\n",
        "    x_train = x_train.reshape(x_train.shape[0], img_rows, img_cols, 1)\n",
        "    x_test = x_test.reshape(x_test.shape[0], img_rows, img_cols, 1)\n",
        "    input_shape = (img_rows, img_cols, 1)\n",
        "\n",
        "x_train = x_train.astype('float32')\n",
        "x_test = x_test.astype('float32')\n",
        "x_train /= 255\n",
        "x_test /= 255\n",
        "print('x_train shape:', x_train.shape)\n",
        "print(x_train.shape[0], 'train samples')\n",
        "print(x_test.shape[0], 'test samples')\n"
      ],
      "execution_count": 14,
      "outputs": [
        {
          "output_type": "stream",
          "text": [
            "x_train shape: (60000, 28, 28, 1)\n",
            "60000 train samples\n",
            "10000 test samples\n"
          ],
          "name": "stdout"
        }
      ]
    },
    {
      "cell_type": "code",
      "metadata": {
        "id": "J5SUaivPGjJl",
        "colab_type": "code",
        "colab": {}
      },
      "source": [
        ""
      ],
      "execution_count": 0,
      "outputs": []
    },
    {
      "cell_type": "code",
      "metadata": {
        "id": "2AxfMC7xEDxi",
        "colab_type": "code",
        "colab": {
          "base_uri": "https://localhost:8080/",
          "height": 1000
        },
        "outputId": "265ff94f-cf91-4d16-d693-21fcd30d9edf"
      },
      "source": [
        "#Run Model\n",
        "\n",
        "# convert class vectors to binary class matrices\n",
        "y_train = keras.utils.to_categorical(y_train, num_classes)\n",
        "y_test = keras.utils.to_categorical(y_test, num_classes)\n",
        "\n",
        "model = Sequential()\n",
        "model.add(Conv2D(32, kernel_size=(3, 3),\n",
        "                 activation='relu',\n",
        "                 input_shape=input_shape))\n",
        "model.add(Conv2D(64, (3, 3), activation='relu'))\n",
        "model.add(MaxPooling2D(pool_size=(2, 2)))\n",
        "model.add(Dropout(0.25))\n",
        "model.add(Flatten())\n",
        "model.add(Dense(128, activation='relu'))\n",
        "model.add(Dropout(0.5))\n",
        "model.add(Dense(num_classes, activation='softmax'))\n",
        "\n",
        "model.compile(loss=keras.losses.categorical_crossentropy,\n",
        "              optimizer=keras.optimizers.Adadelta(),\n",
        "              metrics=['accuracy'])\n",
        "\n",
        "model.fit(x_train, y_train,\n",
        "          batch_size=batch_size,\n",
        "          epochs=epochs,\n",
        "          verbose=1,\n",
        "          validation_data=(x_test, y_test))\n",
        "score = model.evaluate(x_test, y_test, verbose=0)\n",
        "print('Test loss:', score[0])\n",
        "print('Test accuracy:', score[1])\n"
      ],
      "execution_count": 15,
      "outputs": [
        {
          "output_type": "stream",
          "text": [
            "WARNING:tensorflow:From /usr/local/lib/python3.6/dist-packages/keras/backend/tensorflow_backend.py:66: The name tf.get_default_graph is deprecated. Please use tf.compat.v1.get_default_graph instead.\n",
            "\n",
            "WARNING:tensorflow:From /usr/local/lib/python3.6/dist-packages/keras/backend/tensorflow_backend.py:541: The name tf.placeholder is deprecated. Please use tf.compat.v1.placeholder instead.\n",
            "\n",
            "WARNING:tensorflow:From /usr/local/lib/python3.6/dist-packages/keras/backend/tensorflow_backend.py:4432: The name tf.random_uniform is deprecated. Please use tf.random.uniform instead.\n",
            "\n",
            "WARNING:tensorflow:From /usr/local/lib/python3.6/dist-packages/keras/backend/tensorflow_backend.py:4267: The name tf.nn.max_pool is deprecated. Please use tf.nn.max_pool2d instead.\n",
            "\n",
            "WARNING:tensorflow:From /usr/local/lib/python3.6/dist-packages/keras/backend/tensorflow_backend.py:148: The name tf.placeholder_with_default is deprecated. Please use tf.compat.v1.placeholder_with_default instead.\n",
            "\n",
            "WARNING:tensorflow:From /usr/local/lib/python3.6/dist-packages/keras/backend/tensorflow_backend.py:3733: calling dropout (from tensorflow.python.ops.nn_ops) with keep_prob is deprecated and will be removed in a future version.\n",
            "Instructions for updating:\n",
            "Please use `rate` instead of `keep_prob`. Rate should be set to `rate = 1 - keep_prob`.\n",
            "WARNING:tensorflow:From /usr/local/lib/python3.6/dist-packages/keras/optimizers.py:793: The name tf.train.Optimizer is deprecated. Please use tf.compat.v1.train.Optimizer instead.\n",
            "\n",
            "WARNING:tensorflow:From /usr/local/lib/python3.6/dist-packages/keras/backend/tensorflow_backend.py:3576: The name tf.log is deprecated. Please use tf.math.log instead.\n",
            "\n",
            "WARNING:tensorflow:From /usr/local/lib/python3.6/dist-packages/tensorflow_core/python/ops/math_grad.py:1424: where (from tensorflow.python.ops.array_ops) is deprecated and will be removed in a future version.\n",
            "Instructions for updating:\n",
            "Use tf.where in 2.0, which has the same broadcast rule as np.where\n",
            "WARNING:tensorflow:From /usr/local/lib/python3.6/dist-packages/keras/backend/tensorflow_backend.py:1033: The name tf.assign_add is deprecated. Please use tf.compat.v1.assign_add instead.\n",
            "\n",
            "WARNING:tensorflow:From /usr/local/lib/python3.6/dist-packages/keras/backend/tensorflow_backend.py:1020: The name tf.assign is deprecated. Please use tf.compat.v1.assign instead.\n",
            "\n",
            "WARNING:tensorflow:From /usr/local/lib/python3.6/dist-packages/keras/backend/tensorflow_backend.py:3005: The name tf.Session is deprecated. Please use tf.compat.v1.Session instead.\n",
            "\n",
            "Train on 60000 samples, validate on 10000 samples\n",
            "Epoch 1/12\n",
            "WARNING:tensorflow:From /usr/local/lib/python3.6/dist-packages/keras/backend/tensorflow_backend.py:190: The name tf.get_default_session is deprecated. Please use tf.compat.v1.get_default_session instead.\n",
            "\n",
            "WARNING:tensorflow:From /usr/local/lib/python3.6/dist-packages/keras/backend/tensorflow_backend.py:197: The name tf.ConfigProto is deprecated. Please use tf.compat.v1.ConfigProto instead.\n",
            "\n",
            "WARNING:tensorflow:From /usr/local/lib/python3.6/dist-packages/keras/backend/tensorflow_backend.py:207: The name tf.global_variables is deprecated. Please use tf.compat.v1.global_variables instead.\n",
            "\n",
            "WARNING:tensorflow:From /usr/local/lib/python3.6/dist-packages/keras/backend/tensorflow_backend.py:216: The name tf.is_variable_initialized is deprecated. Please use tf.compat.v1.is_variable_initialized instead.\n",
            "\n",
            "WARNING:tensorflow:From /usr/local/lib/python3.6/dist-packages/keras/backend/tensorflow_backend.py:223: The name tf.variables_initializer is deprecated. Please use tf.compat.v1.variables_initializer instead.\n",
            "\n",
            "60000/60000 [==============================] - 11s 180us/step - loss: 0.2713 - acc: 0.9165 - val_loss: 0.0580 - val_acc: 0.9819\n",
            "Epoch 2/12\n",
            "60000/60000 [==============================] - 9s 148us/step - loss: 0.0895 - acc: 0.9738 - val_loss: 0.0451 - val_acc: 0.9854\n",
            "Epoch 3/12\n",
            "60000/60000 [==============================] - 9s 148us/step - loss: 0.0654 - acc: 0.9802 - val_loss: 0.0359 - val_acc: 0.9880\n",
            "Epoch 4/12\n",
            "60000/60000 [==============================] - 9s 148us/step - loss: 0.0553 - acc: 0.9837 - val_loss: 0.0342 - val_acc: 0.9884\n",
            "Epoch 5/12\n",
            "60000/60000 [==============================] - 9s 148us/step - loss: 0.0460 - acc: 0.9861 - val_loss: 0.0291 - val_acc: 0.9902\n",
            "Epoch 6/12\n",
            "60000/60000 [==============================] - 9s 148us/step - loss: 0.0404 - acc: 0.9877 - val_loss: 0.0308 - val_acc: 0.9900\n",
            "Epoch 7/12\n",
            "60000/60000 [==============================] - 9s 147us/step - loss: 0.0361 - acc: 0.9889 - val_loss: 0.0277 - val_acc: 0.9913\n",
            "Epoch 8/12\n",
            "60000/60000 [==============================] - 9s 148us/step - loss: 0.0343 - acc: 0.9895 - val_loss: 0.0276 - val_acc: 0.9917\n",
            "Epoch 9/12\n",
            "60000/60000 [==============================] - 9s 148us/step - loss: 0.0310 - acc: 0.9904 - val_loss: 0.0285 - val_acc: 0.9911\n",
            "Epoch 10/12\n",
            "60000/60000 [==============================] - 9s 148us/step - loss: 0.0299 - acc: 0.9905 - val_loss: 0.0283 - val_acc: 0.9915\n",
            "Epoch 11/12\n",
            "60000/60000 [==============================] - 9s 148us/step - loss: 0.0271 - acc: 0.9914 - val_loss: 0.0258 - val_acc: 0.9921\n",
            "Epoch 12/12\n",
            "60000/60000 [==============================] - 9s 147us/step - loss: 0.0275 - acc: 0.9915 - val_loss: 0.0263 - val_acc: 0.9919\n",
            "Test loss: 0.026288736146808878\n",
            "Test accuracy: 0.9919\n"
          ],
          "name": "stdout"
        }
      ]
    },
    {
      "cell_type": "markdown",
      "metadata": {
        "id": "zcBx9EJVEF23",
        "colab_type": "text"
      },
      "source": [
        "Run model for simulated alignment data: 100reads x 2000 coverage for 200 loci"
      ]
    },
    {
      "cell_type": "code",
      "metadata": {
        "id": "-YRW7DrNEU8t",
        "colab_type": "code",
        "colab": {}
      },
      "source": [
        "#configure keras\n",
        "\n",
        "from __future__ import print_function\n",
        "import keras\n",
        "from keras.datasets import mnist\n",
        "from keras.models import Sequential\n",
        "from keras.layers import Dense, Dropout, Flatten\n",
        "from keras.layers import Conv2D, MaxPooling2D\n",
        "from keras import backend as K\n",
        "\n",
        "batch_size = 128\n",
        "num_classes = 3\n",
        "epochs = 20"
      ],
      "execution_count": 0,
      "outputs": []
    },
    {
      "cell_type": "markdown",
      "metadata": {
        "id": "yYsi8rJLFV5v",
        "colab_type": "text"
      },
      "source": [
        "x is the data (3-d array: image for locus), y are the labels"
      ]
    },
    {
      "cell_type": "code",
      "metadata": {
        "id": "p8x9OSpKEYJ8",
        "colab_type": "code",
        "colab": {
          "base_uri": "https://localhost:8080/",
          "height": 153
        },
        "outputId": "16c78aa4-de89-431d-cc61-dd1e305f5147"
      },
      "source": [
        "#Input data\n",
        "\n",
        "# input image dimensions\n",
        "img_rows, img_cols = 100, 200\n",
        "\n",
        "# the data, split between train and test sets\n",
        "x_train, y_train = simulate_alignments(reference_length=200, num_alignments = 2000,  coverage = 100)\n",
        "x_test, y_test = simulate_alignments(reference_length=200, num_alignments = 1000,  coverage = 100)"
      ],
      "execution_count": 17,
      "outputs": [
        {
          "output_type": "stream",
          "text": [
            "Computing alignment  0\n",
            "Computing alignment  400\n",
            "Computing alignment  800\n",
            "Computing alignment  1200\n",
            "Computing alignment  1600\n",
            "Computing alignment  0\n",
            "Computing alignment  400\n",
            "Computing alignment  800\n"
          ],
          "name": "stdout"
        }
      ]
    },
    {
      "cell_type": "markdown",
      "metadata": {
        "id": "4ZN561CtFTUz",
        "colab_type": "text"
      },
      "source": [
        "We are detecting 3 groups in the labels"
      ]
    },
    {
      "cell_type": "code",
      "metadata": {
        "id": "Qobt8m0XEsMW",
        "colab_type": "code",
        "colab": {
          "base_uri": "https://localhost:8080/",
          "height": 34
        },
        "outputId": "43e77e04-bbbc-4052-e441-5df3d3f5d7eb"
      },
      "source": [
        "from collections import Counter\n",
        "\n",
        "Counter(y_train)"
      ],
      "execution_count": 18,
      "outputs": [
        {
          "output_type": "execute_result",
          "data": {
            "text/plain": [
              "Counter({0: 639, 1: 690, 2: 671})"
            ]
          },
          "metadata": {
            "tags": []
          },
          "execution_count": 18
        }
      ]
    },
    {
      "cell_type": "code",
      "metadata": {
        "id": "jKDLlKC8FfWj",
        "colab_type": "code",
        "colab": {
          "base_uri": "https://localhost:8080/",
          "height": 51
        },
        "outputId": "d441fa07-c37a-4214-f960-13dcf477db49"
      },
      "source": [
        "#make list data into arrays\n",
        "#remove first line (reference)\n",
        "x_train = np.array(x_train)[:,1:101,:]\n",
        "print(x_train.shape)\n",
        "\n",
        "\n",
        "x_test = np.array(x_test)[:,1:101,:]\n",
        "print(x_test.shape)"
      ],
      "execution_count": 19,
      "outputs": [
        {
          "output_type": "stream",
          "text": [
            "(2000, 100, 200)\n",
            "(1000, 100, 200)\n"
          ],
          "name": "stdout"
        }
      ]
    },
    {
      "cell_type": "code",
      "metadata": {
        "id": "OFdcbxenHP4s",
        "colab_type": "code",
        "colab": {}
      },
      "source": [
        "x_train = np.vectorize(transdict.get)(x_train)\n",
        "x_test = np.vectorize(transdict.get)(x_test)"
      ],
      "execution_count": 0,
      "outputs": []
    },
    {
      "cell_type": "code",
      "metadata": {
        "id": "xMAsWM23LLNm",
        "colab_type": "code",
        "colab": {
          "base_uri": "https://localhost:8080/",
          "height": 51
        },
        "outputId": "b4ea980d-94bb-414c-9945-4d4b77559598"
      },
      "source": [
        "print(x_train.shape)\n",
        "print(x_test.shape)"
      ],
      "execution_count": 21,
      "outputs": [
        {
          "output_type": "stream",
          "text": [
            "(2000, 100, 200)\n",
            "(1000, 100, 200)\n"
          ],
          "name": "stdout"
        }
      ]
    },
    {
      "cell_type": "code",
      "metadata": {
        "id": "ffTCk6fWGkKB",
        "colab_type": "code",
        "colab": {
          "base_uri": "https://localhost:8080/",
          "height": 68
        },
        "outputId": "46642a02-5d09-4fec-ce72-2043c2e628db"
      },
      "source": [
        "#format data\n",
        "\n",
        "if K.image_data_format() == 'channels_first':\n",
        "    x_train = x_train.reshape(x_train.shape[0], 1, img_rows, img_cols)\n",
        "    x_test = x_test.reshape(x_test.shape[0], 1, img_rows, img_cols)\n",
        "    input_shape = (1, img_rows, img_cols)\n",
        "else:\n",
        "    x_train = x_train.reshape(x_train.shape[0], img_rows, img_cols, 1)\n",
        "    x_test = x_test.reshape(x_test.shape[0], img_rows, img_cols, 1)\n",
        "    input_shape = (img_rows, img_cols, 1)\n",
        "\n",
        "x_train = x_train.astype('float32')\n",
        "x_test = x_test.astype('float32')\n",
        "#normalise\n",
        "x_train /= 3\n",
        "x_test /= 3\n",
        "print('x_train shape:', x_train.shape)\n",
        "print(x_train.shape[0], 'train samples')\n",
        "print(x_test.shape[0], 'test samples')"
      ],
      "execution_count": 22,
      "outputs": [
        {
          "output_type": "stream",
          "text": [
            "x_train shape: (2000, 100, 200, 1)\n",
            "2000 train samples\n",
            "1000 test samples\n"
          ],
          "name": "stdout"
        }
      ]
    },
    {
      "cell_type": "code",
      "metadata": {
        "id": "-5N-E58jLU1y",
        "colab_type": "code",
        "colab": {
          "base_uri": "https://localhost:8080/",
          "height": 748
        },
        "outputId": "8abeeba3-5573-4b92-a0fc-11ddfdd102d2"
      },
      "source": [
        "#Run Model\n",
        "\n",
        "# convert class vectors to binary class matrices\n",
        "y_train = keras.utils.to_categorical(y_train, num_classes)\n",
        "y_test = keras.utils.to_categorical(y_test, num_classes)\n",
        "\n",
        "model = Sequential()\n",
        "model.add(Conv2D(32, kernel_size=(3, 3),\n",
        "                 activation='relu',\n",
        "                 input_shape=input_shape))\n",
        "model.add(Conv2D(64, (3, 3), activation='relu'))\n",
        "model.add(MaxPooling2D(pool_size=(2, 2)))\n",
        "model.add(Dropout(0.25))\n",
        "model.add(Flatten())\n",
        "model.add(Dense(128, activation='relu'))\n",
        "model.add(Dropout(0.5))\n",
        "model.add(Dense(num_classes, activation='softmax'))\n",
        "\n",
        "model.compile(loss=keras.losses.categorical_crossentropy,\n",
        "              optimizer=keras.optimizers.Adadelta(),\n",
        "              metrics=['accuracy'])\n",
        "\n",
        "model.fit(x_train, y_train,\n",
        "          batch_size=batch_size,\n",
        "          epochs=epochs,\n",
        "          verbose=1,\n",
        "          validation_data=(x_test, y_test))\n",
        "score = model.evaluate(x_test, y_test, verbose=0)\n",
        "print('Test loss:', score[0])\n",
        "print('Test accuracy:', score[1])"
      ],
      "execution_count": 23,
      "outputs": [
        {
          "output_type": "stream",
          "text": [
            "Train on 2000 samples, validate on 1000 samples\n",
            "Epoch 1/20\n",
            "2000/2000 [==============================] - 11s 6ms/step - loss: 3.9115 - acc: 0.3555 - val_loss: 1.0836 - val_acc: 0.4340\n",
            "Epoch 2/20\n",
            "2000/2000 [==============================] - 7s 3ms/step - loss: 1.0658 - acc: 0.4375 - val_loss: 1.0731 - val_acc: 0.3480\n",
            "Epoch 3/20\n",
            "2000/2000 [==============================] - 7s 3ms/step - loss: 1.0931 - acc: 0.4655 - val_loss: 1.0602 - val_acc: 0.4190\n",
            "Epoch 4/20\n",
            "2000/2000 [==============================] - 7s 3ms/step - loss: 0.9635 - acc: 0.5175 - val_loss: 0.9988 - val_acc: 0.3420\n",
            "Epoch 5/20\n",
            "2000/2000 [==============================] - 7s 3ms/step - loss: 0.7888 - acc: 0.5865 - val_loss: 0.6185 - val_acc: 0.6720\n",
            "Epoch 6/20\n",
            "2000/2000 [==============================] - 7s 3ms/step - loss: 0.7261 - acc: 0.6625 - val_loss: 0.7354 - val_acc: 0.5520\n",
            "Epoch 7/20\n",
            "2000/2000 [==============================] - 7s 3ms/step - loss: 0.7584 - acc: 0.6140 - val_loss: 0.6333 - val_acc: 0.6730\n",
            "Epoch 8/20\n",
            "2000/2000 [==============================] - 7s 3ms/step - loss: 0.5110 - acc: 0.7205 - val_loss: 0.4987 - val_acc: 0.6370\n",
            "Epoch 9/20\n",
            "2000/2000 [==============================] - 7s 3ms/step - loss: 0.4678 - acc: 0.7350 - val_loss: 0.5008 - val_acc: 0.6340\n",
            "Epoch 10/20\n",
            "2000/2000 [==============================] - 7s 3ms/step - loss: 0.4516 - acc: 0.7490 - val_loss: 0.5214 - val_acc: 0.6460\n",
            "Epoch 11/20\n",
            "2000/2000 [==============================] - 7s 3ms/step - loss: 0.4268 - acc: 0.7800 - val_loss: 0.5896 - val_acc: 0.6730\n",
            "Epoch 12/20\n",
            "2000/2000 [==============================] - 7s 3ms/step - loss: 0.4060 - acc: 0.7925 - val_loss: 0.5280 - val_acc: 0.6230\n",
            "Epoch 13/20\n",
            "2000/2000 [==============================] - 7s 3ms/step - loss: 0.3999 - acc: 0.7965 - val_loss: 0.5498 - val_acc: 0.6360\n",
            "Epoch 14/20\n",
            "2000/2000 [==============================] - 7s 3ms/step - loss: 0.3706 - acc: 0.8110 - val_loss: 0.5826 - val_acc: 0.6350\n",
            "Epoch 15/20\n",
            "2000/2000 [==============================] - 7s 3ms/step - loss: 0.3526 - acc: 0.8310 - val_loss: 0.5621 - val_acc: 0.6350\n",
            "Epoch 16/20\n",
            "2000/2000 [==============================] - 7s 3ms/step - loss: 0.3468 - acc: 0.8405 - val_loss: 0.6169 - val_acc: 0.6630\n",
            "Epoch 17/20\n",
            "2000/2000 [==============================] - 7s 3ms/step - loss: 0.3159 - acc: 0.8570 - val_loss: 0.5866 - val_acc: 0.6380\n",
            "Epoch 18/20\n",
            "2000/2000 [==============================] - 7s 3ms/step - loss: 0.3038 - acc: 0.8710 - val_loss: 0.7185 - val_acc: 0.6380\n",
            "Epoch 19/20\n",
            "2000/2000 [==============================] - 7s 3ms/step - loss: 0.2792 - acc: 0.8730 - val_loss: 0.7159 - val_acc: 0.6410\n",
            "Epoch 20/20\n",
            "2000/2000 [==============================] - 7s 3ms/step - loss: 0.2660 - acc: 0.8845 - val_loss: 0.7197 - val_acc: 0.6490\n",
            "Test loss: 0.7197120151519776\n",
            "Test accuracy: 0.649\n"
          ],
          "name": "stdout"
        }
      ]
    },
    {
      "cell_type": "markdown",
      "metadata": {
        "id": "0Wb1LtDoNZY_",
        "colab_type": "text"
      },
      "source": [
        "Try again with sequencing errors"
      ]
    },
    {
      "cell_type": "code",
      "metadata": {
        "id": "LPcKz-ikXmWc",
        "colab_type": "code",
        "colab": {
          "base_uri": "https://localhost:8080/",
          "height": 697
        },
        "outputId": "1f673829-8abf-4d1b-c820-7165fb39872f"
      },
      "source": [
        "#keras setting\n",
        "batch_size = 128\n",
        "num_classes = 3\n",
        "epochs = 20\n",
        "\n",
        "# input image dimensions\n",
        "img_rows, img_cols = 101, 200\n",
        "\n",
        "# the data, split between train and test sets\n",
        "x_train, y_train = simulate_alignments(reference_length=200, num_alignments = 2000,  coverage = 100,\n",
        "                                       p_sequencing_error = 0.25, p_alignment_error = 0.01)\n",
        "x_test, y_test = simulate_alignments(reference_length=200, num_alignments = 1000,  coverage = 100,\n",
        "                                       p_sequencing_error = 0.25, p_alignment_error = 0.01)\n",
        "#make list data into arrays\n",
        "#remove first line (reference)\n",
        "x_train = np.array(x_train)[:,0:101,:]\n",
        "x_train = np.vectorize(transdict.get)(x_train)\n",
        "print(x_train.shape)\n",
        "x_test = np.array(x_test)[:,0:101,:]\n",
        "x_test = np.vectorize(transdict.get)(x_test)\n",
        "print(x_test.shape)\n",
        "#format data\n",
        "if K.image_data_format() == 'channels_first':\n",
        "    x_train = x_train.reshape(x_train.shape[0], 1, img_rows, img_cols)\n",
        "    x_test = x_test.reshape(x_test.shape[0], 1, img_rows, img_cols)\n",
        "    input_shape = (1, img_rows, img_cols)\n",
        "else:\n",
        "    x_train = x_train.reshape(x_train.shape[0], img_rows, img_cols, 1)\n",
        "    x_test = x_test.reshape(x_test.shape[0], img_rows, img_cols, 1)\n",
        "    input_shape = (img_rows, img_cols, 1)\n",
        "x_train = x_train.astype('float32')\n",
        "x_test = x_test.astype('float32')\n",
        "#normalise\n",
        "x_train /= 3\n",
        "x_test /= 3\n",
        "print('x_train shape:', x_train.shape)\n",
        "print(x_train.shape[0], 'train samples')\n",
        "print(x_test.shape[0], 'test samples')\n",
        "#Run Model\n",
        "# convert class vectors to binary class matrices\n",
        "y_train = keras.utils.to_categorical(y_train, num_classes)\n",
        "y_test = keras.utils.to_categorical(y_test, num_classes)\n",
        "model = Sequential()\n",
        "model.add(Conv2D(32, kernel_size=(3, 3),\n",
        "                 activation='relu',\n",
        "                 input_shape=input_shape))\n",
        "model.add(Conv2D(64, (3, 3), activation='relu'))\n",
        "model.add(MaxPooling2D(pool_size=(2, 2)))\n",
        "model.add(Dropout(0.25))\n",
        "model.add(Flatten())\n",
        "model.add(Dense(128, activation='relu'))\n",
        "model.add(Dropout(0.5))\n",
        "model.add(Dense(num_classes, activation='softmax'))\n",
        "model.compile(loss=keras.losses.categorical_crossentropy,\n",
        "              optimizer=keras.optimizers.Adadelta(),\n",
        "              metrics=['accuracy'])\n",
        "model.fit(x_train, y_train,\n",
        "          batch_size=batch_size,\n",
        "          epochs=epochs,\n",
        "          verbose=1,\n",
        "          validation_data=(x_test, y_test))\n",
        "score = model.evaluate(x_test, y_test, verbose=0)\n",
        "print('Test loss:', score[0])\n",
        "print('Test accuracy:', score[1])"
      ],
      "execution_count": 0,
      "outputs": [
        {
          "output_type": "stream",
          "text": [
            "Computing alignment  0\n",
            "Computing alignment  400\n",
            "Computing alignment  800\n",
            "Computing alignment  1200\n",
            "Computing alignment  1600\n",
            "Computing alignment  0\n",
            "Computing alignment  400\n",
            "Computing alignment  800\n",
            "(2000, 101, 200)\n",
            "(1000, 101, 200)\n",
            "x_train shape: (2000, 101, 200, 1)\n",
            "2000 train samples\n",
            "1000 test samples\n",
            "Train on 2000 samples, validate on 1000 samples\n",
            "Epoch 1/20\n",
            "2000/2000 [==============================] - 11s 6ms/step - loss: 2.3717 - acc: 0.3190 - val_loss: 1.0995 - val_acc: 0.3250\n",
            "Epoch 2/20\n",
            "2000/2000 [==============================] - 7s 3ms/step - loss: 1.0968 - acc: 0.3665 - val_loss: 1.0978 - val_acc: 0.3500\n",
            "Epoch 3/20\n",
            "2000/2000 [==============================] - 7s 3ms/step - loss: 1.0841 - acc: 0.4290 - val_loss: 1.1004 - val_acc: 0.3150\n",
            "Epoch 4/20\n",
            "2000/2000 [==============================] - 7s 3ms/step - loss: 1.0678 - acc: 0.4615 - val_loss: 1.1084 - val_acc: 0.3420\n",
            "Epoch 5/20\n",
            "2000/2000 [==============================] - 7s 3ms/step - loss: 1.0410 - acc: 0.4835 - val_loss: 1.0990 - val_acc: 0.3490\n",
            "Epoch 6/20\n",
            "2000/2000 [==============================] - 7s 3ms/step - loss: 0.9968 - acc: 0.5485 - val_loss: 1.1587 - val_acc: 0.3610\n",
            "Epoch 7/20\n",
            "2000/2000 [==============================] - 7s 3ms/step - loss: 0.9534 - acc: 0.5615 - val_loss: 1.1802 - val_acc: 0.3440\n",
            "Epoch 8/20\n",
            "2000/2000 [==============================] - 7s 3ms/step - loss: 0.9062 - acc: 0.5895 - val_loss: 1.0994 - val_acc: 0.3520\n",
            "Epoch 9/20\n",
            "2000/2000 [==============================] - 7s 3ms/step - loss: 0.8766 - acc: 0.6865 - val_loss: 1.1098 - val_acc: 0.3510\n",
            "Epoch 10/20\n",
            "2000/2000 [==============================] - 7s 3ms/step - loss: 0.8028 - acc: 0.7135 - val_loss: 1.2744 - val_acc: 0.3320\n",
            "Epoch 11/20\n",
            "2000/2000 [==============================] - 7s 3ms/step - loss: 0.6998 - acc: 0.7535 - val_loss: 1.1585 - val_acc: 0.3480\n",
            "Epoch 12/20\n",
            "2000/2000 [==============================] - 7s 3ms/step - loss: 0.6349 - acc: 0.7745 - val_loss: 1.2241 - val_acc: 0.3530\n",
            "Epoch 13/20\n",
            "1920/2000 [===========================>..] - ETA: 0s - loss: 0.4799 - acc: 0.8641"
          ],
          "name": "stdout"
        }
      ]
    },
    {
      "cell_type": "markdown",
      "metadata": {
        "id": "XuwbF0fmXnF7",
        "colab_type": "text"
      },
      "source": [
        "Try keeping reference sequence(as row 1)"
      ]
    },
    {
      "cell_type": "code",
      "metadata": {
        "id": "rppllHSIZWA1",
        "colab_type": "code",
        "colab": {}
      },
      "source": [
        "#keras setting\n",
        "batch_size = 128\n",
        "num_classes = 3\n",
        "epochs = 20\n",
        "\n",
        "# input image dimensions\n",
        "img_rows, img_cols = 101, 200\n",
        "\n",
        "# the data, split between train and test sets\n",
        "x_train, y_train = simulate_alignments(reference_length=200, num_alignments = 2000,  coverage = 100,\n",
        "                                       p_sequencing_error = 0.0, p_alignment_error = 0.00)\n",
        "x_test, y_test = simulate_alignments(reference_length=200, num_alignments = 1000,  coverage = 100,\n",
        "                                       p_sequencing_error = 0.0, p_alignment_error = 0.00)\n",
        "#make list data into arrays\n",
        "#remove first line (reference)\n",
        "x_train = np.array(x_train)#[:,0:101,:]\n",
        "x_train = np.vectorize(transdict.get)(x_train)\n",
        "#x_train = np.vectorize(np.argsort)(x_train)\n",
        "print(x_train.shape)\n",
        "x_test = np.array(x_test)#[:,0:101,:]\n",
        "x_test = np.vectorize(transdict.get)(x_test)\n",
        "#x_test = np.vectorize(np.argsort)(x_test)\n",
        "print(x_test.shape)\n",
        "#format data\n",
        "if K.image_data_format() == 'channels_first':\n",
        "    x_train = x_train.reshape(x_train.shape[0], 1, img_rows, img_cols)\n",
        "    x_test = x_test.reshape(x_test.shape[0], 1, img_rows, img_cols)\n",
        "    input_shape = (1, img_rows, img_cols)\n",
        "else:\n",
        "    x_train = x_train.reshape(x_train.shape[0], img_rows, img_cols, 1)\n",
        "    x_test = x_test.reshape(x_test.shape[0], img_rows, img_cols, 1)\n",
        "    input_shape = (img_rows, img_cols, 1)\n",
        "x_train = x_train.astype('float32')\n",
        "x_test = x_test.astype('float32')\n",
        "#normalise\n",
        "x_train /= 3\n",
        "x_test /= 3\n",
        "print('x_train shape:', x_train.shape)\n",
        "print(x_train.shape[0], 'train samples')\n",
        "print(x_test.shape[0], 'test samples')\n",
        "#Run Model\n",
        "# convert class vectors to binary class matrices\n",
        "y_train = keras.utils.to_categorical(y_train, num_classes)\n",
        "y_test = keras.utils.to_categorical(y_test, num_classes)\n",
        "model = Sequential()\n",
        "model.add(Conv2D(32, kernel_size=(3, 3),\n",
        "                 activation='relu',\n",
        "                 input_shape=input_shape))\n",
        "model.add(Conv2D(64, (3, 3), activation='relu'))\n",
        "model.add(MaxPooling2D(pool_size=(2, 2)))\n",
        "model.add(Dropout(0.25))\n",
        "model.add(Flatten())\n",
        "model.add(Dense(128, activation='relu'))\n",
        "model.add(Dropout(0.5))\n",
        "model.add(Dense(num_classes, activation='softmax'))\n",
        "model.compile(loss=keras.losses.categorical_crossentropy,\n",
        "              optimizer=keras.optimizers.Adadelta(),\n",
        "              metrics=['accuracy'])\n",
        "model.fit(x_train, y_train,\n",
        "          batch_size=batch_size,\n",
        "          epochs=epochs,\n",
        "          verbose=1,\n",
        "          validation_data=(x_test, y_test))\n",
        "score = model.evaluate(x_test, y_test, verbose=0)\n",
        "print('Test loss:', score[0])\n",
        "print('Test accuracy:', score[1])"
      ],
      "execution_count": 0,
      "outputs": []
    },
    {
      "cell_type": "code",
      "metadata": {
        "id": "PjSWyCwaNUx4",
        "colab_type": "code",
        "colab": {}
      },
      "source": [
        "#keras setting\n",
        "batch_size = 128\n",
        "num_classes = 3\n",
        "epochs = 20\n",
        "\n",
        "# input image dimensions\n",
        "img_rows, img_cols = 101, 200\n",
        "\n",
        "# the data, split between train and test sets\n",
        "x_train, y_train = simulate_alignments(reference_length=200, num_alignments = 2000,  coverage = 100,\n",
        "                                       p_sequencing_error = 0.25, p_alignment_error = 0.01)\n",
        "x_test, y_test = simulate_alignments(reference_length=200, num_alignments = 1000,  coverage = 100,\n",
        "                                       p_sequencing_error = 0.25, p_alignment_error = 0.01)\n",
        "#make list data into arrays\n",
        "#remove first line (reference)\n",
        "x_train = np.array(x_train)#[:,0:101,:]\n",
        "x_train = np.vectorize(transdict.get)(x_train)\n",
        "#x_train = np.vectorize(np.argsort)(x_train)\n",
        "print(x_train.shape)\n",
        "x_test = np.array(x_test)#[:,0:101,:]\n",
        "x_test = np.vectorize(transdict.get)(x_test)\n",
        "#x_test = np.vectorize(np.argsort)(x_test)\n",
        "print(x_test.shape)\n",
        "#format data\n",
        "if K.image_data_format() == 'channels_first':\n",
        "    x_train = x_train.reshape(x_train.shape[0], 1, img_rows, img_cols)\n",
        "    x_test = x_test.reshape(x_test.shape[0], 1, img_rows, img_cols)\n",
        "    input_shape = (1, img_rows, img_cols)\n",
        "else:\n",
        "    x_train = x_train.reshape(x_train.shape[0], img_rows, img_cols, 1)\n",
        "    x_test = x_test.reshape(x_test.shape[0], img_rows, img_cols, 1)\n",
        "    input_shape = (img_rows, img_cols, 1)\n",
        "x_train = x_train.astype('float32')\n",
        "x_test = x_test.astype('float32')\n",
        "#normalise\n",
        "x_train /= 3\n",
        "x_test /= 3\n",
        "print('x_train shape:', x_train.shape)\n",
        "print(x_train.shape[0], 'train samples')\n",
        "print(x_test.shape[0], 'test samples')\n",
        "#Run Model\n",
        "# convert class vectors to binary class matrices\n",
        "y_train = keras.utils.to_categorical(y_train, num_classes)\n",
        "y_test = keras.utils.to_categorical(y_test, num_classes)\n",
        "model = Sequential()\n",
        "model.add(Conv2D(32, kernel_size=(3, 3),\n",
        "                 activation='relu',\n",
        "                 input_shape=input_shape))\n",
        "model.add(Conv2D(64, (3, 3), activation='relu'))\n",
        "model.add(MaxPooling2D(pool_size=(2, 2)))\n",
        "model.add(Dropout(0.25))\n",
        "model.add(Flatten())\n",
        "model.add(Dense(128, activation='relu'))\n",
        "model.add(Dropout(0.5))\n",
        "model.add(Dense(num_classes, activation='softmax'))\n",
        "model.compile(loss=keras.losses.categorical_crossentropy,\n",
        "              optimizer=keras.optimizers.Adadelta(),\n",
        "              metrics=['accuracy'])\n",
        "model.fit(x_train, y_train,\n",
        "          batch_size=batch_size,\n",
        "          epochs=epochs,\n",
        "          verbose=1,\n",
        "          validation_data=(x_test, y_test))\n",
        "score = model.evaluate(x_test, y_test, verbose=0)\n",
        "print('Test loss:', score[0])\n",
        "print('Test accuracy:', score[1])"
      ],
      "execution_count": 0,
      "outputs": []
    },
    {
      "cell_type": "markdown",
      "metadata": {
        "id": "kaCJiPmcaGK-",
        "colab_type": "text"
      },
      "source": [
        "Compare each read to reference\n"
      ]
    },
    {
      "cell_type": "code",
      "metadata": {
        "id": "LjV9d78Tai1X",
        "colab_type": "code",
        "colab": {}
      },
      "source": [
        "#make list data into arrays\n",
        "#convert strings to integrers\n",
        "x_train = np.array(x_train)#[:,1:101,:]\n",
        "x_train = np.vectorize(transdict.get)(x_train)\n",
        "x_train = np.where(x_train[:,0:1, :] == x_train[:, 1:101, :], 0, 1)\n",
        "#remove first line (reference)\n",
        "x_train = np.array(x_train)#[:,1:101,:]\n",
        "#x_train = np.vectorize(np.argsort)(x_train)\n",
        "print(x_train.shape)\n",
        "x_test = np.array(x_test)#[:,1:101,:]\n",
        "x_test = np.vectorize(transdict.get)(x_test)\n",
        "x_test = np.where(x_test[:,0:1, :] == x_test[:, 1:101, :], 0, 1)\n",
        "print(x_test.shape)"
      ],
      "execution_count": 0,
      "outputs": []
    },
    {
      "cell_type": "code",
      "metadata": {
        "id": "AqL4GXHBcNkY",
        "colab_type": "code",
        "colab": {}
      },
      "source": [
        "x_train[1:3, 1:5, 1:10]"
      ],
      "execution_count": 0,
      "outputs": []
    },
    {
      "cell_type": "code",
      "metadata": {
        "colab_type": "code",
        "id": "nlU8B39yesxw",
        "colab": {}
      },
      "source": [
        "#keras setting\n",
        "batch_size = 128\n",
        "num_classes = 3\n",
        "epochs = 50\n",
        "\n",
        "# input image dimensions\n",
        "img_rows, img_cols = 100, 200\n",
        "\n",
        "# the data, split between train and test sets\n",
        "x_train, y_train = simulate_alignments(reference_length=200, num_alignments = 2000,  coverage = 100,\n",
        "                                       p_sequencing_error = 0.25, p_alignment_error = 0.01)\n",
        "x_test, y_test = simulate_alignments(reference_length=200, num_alignments = 1000,  coverage = 100,\n",
        "                                       p_sequencing_error = 0.25, p_alignment_error = 0.01)\n",
        "#make list data into arrays\n",
        "#convert strings to integrers\n",
        "x_train = np.array(x_train)#[:,1:101,:]\n",
        "x_train = np.vectorize(transdict.get)(x_train)\n",
        "x_train = np.where(x_train[:,0:1, :] == x_train[:, 1:101, :], 0, 1)\n",
        "#remove first line (reference)\n",
        "x_train = np.array(x_train)#[:,1:101,:]\n",
        "#x_train = np.vectorize(np.argsort)(x_train)\n",
        "print(x_train.shape)\n",
        "x_test = np.array(x_test)#[:,1:101,:]\n",
        "x_test = np.vectorize(transdict.get)(x_test)\n",
        "x_test = np.where(x_test[:,0:1, :] == x_test[:, 1:101, :], 0, 1)\n",
        "print(x_test.shape)\n",
        "#format data\n",
        "if K.image_data_format() == 'channels_first':\n",
        "    x_train = x_train.reshape(x_train.shape[0], 1, img_rows, img_cols)\n",
        "    x_test = x_test.reshape(x_test.shape[0], 1, img_rows, img_cols)\n",
        "    input_shape = (1, img_rows, img_cols)\n",
        "else:\n",
        "    x_train = x_train.reshape(x_train.shape[0], img_rows, img_cols, 1)\n",
        "    x_test = x_test.reshape(x_test.shape[0], img_rows, img_cols, 1)\n",
        "    input_shape = (img_rows, img_cols, 1)\n",
        "x_train = x_train.astype('float32')\n",
        "x_test = x_test.astype('float32')\n",
        "#normalise\n",
        "x_train /= 3\n",
        "x_test /= 3\n",
        "print('x_train shape:', x_train.shape)\n",
        "print(x_train.shape[0], 'train samples')\n",
        "print(x_test.shape[0], 'test samples')\n",
        "#Run Model\n",
        "# convert class vectors to binary class matrices\n",
        "y_train = keras.utils.to_categorical(y_train, num_classes)\n",
        "y_test = keras.utils.to_categorical(y_test, num_classes)\n",
        "model = Sequential()\n",
        "model.add(Conv2D(32, kernel_size=(3, 3),\n",
        "                 activation='relu',\n",
        "                 input_shape=input_shape))\n",
        "model.add(Conv2D(64, (3, 3), activation='relu'))\n",
        "model.add(MaxPooling2D(pool_size=(2, 2)))\n",
        "model.add(Dropout(0.25))\n",
        "model.add(Flatten())\n",
        "model.add(Dense(128, activation='relu'))\n",
        "model.add(Dropout(0.5))\n",
        "model.add(Dense(num_classes, activation='softmax'))\n",
        "model.compile(loss=keras.losses.categorical_crossentropy,\n",
        "              optimizer=keras.optimizers.Adadelta(),\n",
        "              metrics=['accuracy'])\n",
        "model.fit(x_train, y_train,\n",
        "          batch_size=batch_size,\n",
        "          epochs=epochs,\n",
        "          verbose=1,\n",
        "          validation_data=(x_test, y_test))\n",
        "score = model.evaluate(x_test, y_test, verbose=0)\n",
        "print('Test loss:', score[0])\n",
        "print('Test accuracy:', score[1])"
      ],
      "execution_count": 0,
      "outputs": []
    },
    {
      "cell_type": "markdown",
      "metadata": {
        "id": "LauTCNDVhfja",
        "colab_type": "text"
      },
      "source": [
        "Low error rate"
      ]
    },
    {
      "cell_type": "code",
      "metadata": {
        "id": "SA93EIX5OGNi",
        "colab_type": "code",
        "colab": {}
      },
      "source": [
        "#keras setting\n",
        "batch_size = 128\n",
        "num_classes = 3\n",
        "epochs = 50\n",
        "\n",
        "# input image dimensions\n",
        "img_rows, img_cols = 100, 200\n",
        "\n",
        "# the data, split between train and test sets\n",
        "x_train, y_train = simulate_alignments(reference_length=200, num_alignments = 2000,  coverage = 100,\n",
        "                                       p_sequencing_error = 0.05, p_alignment_error = 0.01)\n",
        "x_test, y_test = simulate_alignments(reference_length=200, num_alignments = 1000,  coverage = 100,\n",
        "                                       p_sequencing_error = 0.05, p_alignment_error = 0.01)\n",
        "#make list data into arrays\n",
        "#convert strings to integrers\n",
        "x_train = np.array(x_train)#[:,1:101,:]\n",
        "x_train = np.vectorize(transdict.get)(x_train)\n",
        "x_train = np.where(x_train[:,0:1, :] == x_train[:, 1:101, :], 0, 1)\n",
        "#remove first line (reference)\n",
        "x_train = np.array(x_train)#[:,1:101,:]\n",
        "#x_train = np.vectorize(np.argsort)(x_train)\n",
        "print(x_train.shape)\n",
        "x_test = np.array(x_test)#[:,1:101,:]\n",
        "x_test = np.vectorize(transdict.get)(x_test)\n",
        "x_test = np.where(x_test[:,0:1, :] == x_test[:, 1:101, :], 0, 1)\n",
        "print(x_test.shape)\n",
        "#format data\n",
        "if K.image_data_format() == 'channels_first':\n",
        "    x_train = x_train.reshape(x_train.shape[0], 1, img_rows, img_cols)\n",
        "    x_test = x_test.reshape(x_test.shape[0], 1, img_rows, img_cols)\n",
        "    input_shape = (1, img_rows, img_cols)\n",
        "else:\n",
        "    x_train = x_train.reshape(x_train.shape[0], img_rows, img_cols, 1)\n",
        "    x_test = x_test.reshape(x_test.shape[0], img_rows, img_cols, 1)\n",
        "    input_shape = (img_rows, img_cols, 1)\n",
        "x_train = x_train.astype('float32')\n",
        "x_test = x_test.astype('float32')\n",
        "#normalise\n",
        "x_train /= 3\n",
        "x_test /= 3\n",
        "print('x_train shape:', x_train.shape)\n",
        "print(x_train.shape[0], 'train samples')\n",
        "print(x_test.shape[0], 'test samples')\n",
        "#Run Model\n",
        "# convert class vectors to binary class matrices\n",
        "y_train = keras.utils.to_categorical(y_train, num_classes)\n",
        "y_test = keras.utils.to_categorical(y_test, num_classes)\n",
        "model = Sequential()\n",
        "model.add(Conv2D(32, kernel_size=(3, 3),\n",
        "                 activation='relu',\n",
        "                 input_shape=input_shape))\n",
        "model.add(Conv2D(64, (3, 3), activation='relu'))\n",
        "model.add(MaxPooling2D(pool_size=(2, 2)))\n",
        "model.add(Dropout(0.25))\n",
        "model.add(Flatten())\n",
        "model.add(Dense(128, activation='relu'))\n",
        "model.add(Dropout(0.5))\n",
        "model.add(Dense(num_classes, activation='softmax'))\n",
        "model.compile(loss=keras.losses.categorical_crossentropy,\n",
        "              optimizer=keras.optimizers.Adadelta(),\n",
        "              metrics=['accuracy'])\n",
        "model.fit(x_train, y_train,\n",
        "          batch_size=batch_size,\n",
        "          epochs=epochs,\n",
        "          verbose=1,\n",
        "          validation_data=(x_test, y_test))\n",
        "score = model.evaluate(x_test, y_test, verbose=0)\n",
        "print('Test loss:', score[0])\n",
        "print('Test accuracy:', score[1])"
      ],
      "execution_count": 0,
      "outputs": []
    },
    {
      "cell_type": "markdown",
      "metadata": {
        "id": "FTI2iC10jlgE",
        "colab_type": "text"
      },
      "source": [
        "Does it perform on perfect data?"
      ]
    },
    {
      "cell_type": "code",
      "metadata": {
        "id": "LOIPDxpsjnhs",
        "colab_type": "code",
        "colab": {}
      },
      "source": [
        "#keras setting\n",
        "batch_size = 128\n",
        "num_classes = 3\n",
        "epochs = 50\n",
        "\n",
        "# input image dimensions\n",
        "img_rows, img_cols = 100, 200\n",
        "\n",
        "# the data, split between train and test sets\n",
        "x_train, y_train = simulate_alignments(reference_length=200, num_alignments = 2000,  coverage = 100,\n",
        "                                       p_sequencing_error = 0.05, p_alignment_error = 0.01)\n",
        "x_test, y_test = simulate_alignments(reference_length=200, num_alignments = 1000,  coverage = 100,\n",
        "                                       p_sequencing_error = 0.00, p_alignment_error = 0.00)\n",
        "#make list data into arrays\n",
        "#convert strings to integrers\n",
        "x_train = np.array(x_train)#[:,1:101,:]\n",
        "x_train = np.vectorize(transdict.get)(x_train)\n",
        "x_train = np.where(x_train[:,0:1, :] == x_train[:, 1:101, :], 0, 1)\n",
        "#remove first line (reference)\n",
        "x_train = np.array(x_train)#[:,1:101,:]\n",
        "#x_train = np.vectorize(np.argsort)(x_train)\n",
        "print(x_train.shape)\n",
        "x_test = np.array(x_test)#[:,1:101,:]\n",
        "x_test = np.vectorize(transdict.get)(x_test)\n",
        "x_test = np.where(x_test[:,0:1, :] == x_test[:, 1:101, :], 0, 1)\n",
        "print(x_test.shape)\n",
        "#format data\n",
        "if K.image_data_format() == 'channels_first':\n",
        "    x_train = x_train.reshape(x_train.shape[0], 1, img_rows, img_cols)\n",
        "    x_test = x_test.reshape(x_test.shape[0], 1, img_rows, img_cols)\n",
        "    input_shape = (1, img_rows, img_cols)\n",
        "else:\n",
        "    x_train = x_train.reshape(x_train.shape[0], img_rows, img_cols, 1)\n",
        "    x_test = x_test.reshape(x_test.shape[0], img_rows, img_cols, 1)\n",
        "    input_shape = (img_rows, img_cols, 1)\n",
        "x_train = x_train.astype('float32')\n",
        "x_test = x_test.astype('float32')\n",
        "#normalise\n",
        "x_train /= 3\n",
        "x_test /= 3\n",
        "print('x_train shape:', x_train.shape)\n",
        "print(x_train.shape[0], 'train samples')\n",
        "print(x_test.shape[0], 'test samples')\n",
        "#Run Model\n",
        "# convert class vectors to binary class matrices\n",
        "y_train = keras.utils.to_categorical(y_train, num_classes)\n",
        "y_test = keras.utils.to_categorical(y_test, num_classes)\n",
        "model = Sequential()\n",
        "model.add(Conv2D(32, kernel_size=(3, 3),\n",
        "                 activation='relu',\n",
        "                 input_shape=input_shape))\n",
        "model.add(Conv2D(64, (3, 3), activation='relu'))\n",
        "model.add(MaxPooling2D(pool_size=(2, 2)))\n",
        "model.add(Dropout(0.25))\n",
        "model.add(Flatten())\n",
        "model.add(Dense(128, activation='relu'))\n",
        "model.add(Dropout(0.5))\n",
        "model.add(Dense(num_classes, activation='softmax'))\n",
        "model.compile(loss=keras.losses.categorical_crossentropy,\n",
        "              optimizer=keras.optimizers.Adadelta(),\n",
        "              metrics=['accuracy'])\n",
        "model.fit(x_train, y_train,\n",
        "          batch_size=batch_size,\n",
        "          epochs=epochs,\n",
        "          verbose=1,\n",
        "          validation_data=(x_test, y_test))\n",
        "score = model.evaluate(x_test, y_test, verbose=0)\n",
        "print('Test loss:', score[0])\n",
        "print('Test accuracy:', score[1])"
      ],
      "execution_count": 0,
      "outputs": []
    },
    {
      "cell_type": "markdown",
      "metadata": {
        "id": "Jpf5he1uhjRj",
        "colab_type": "text"
      },
      "source": [
        "Higher error rate in test data than training (test for overfitting)"
      ]
    },
    {
      "cell_type": "code",
      "metadata": {
        "id": "tzt--RTphm1F",
        "colab_type": "code",
        "colab": {}
      },
      "source": [
        "#keras setting\n",
        "batch_size = 128\n",
        "num_classes = 3\n",
        "epochs = 50\n",
        "\n",
        "# input image dimensions\n",
        "img_rows, img_cols = 100, 200\n",
        "\n",
        "# the data, split between train and test sets\n",
        "x_train, y_train = simulate_alignments(reference_length=200, num_alignments = 2000,  coverage = 100,\n",
        "                                       p_sequencing_error = 0.10, p_alignment_error = 0.01)\n",
        "x_test, y_test = simulate_alignments(reference_length=200, num_alignments = 1000,  coverage = 100,\n",
        "                                       p_sequencing_error = 0.01, p_alignment_error = 0.01)\n",
        "#make list data into arrays\n",
        "#convert strings to integrers\n",
        "x_train = np.array(x_train)#[:,1:101,:]\n",
        "x_train = np.vectorize(transdict.get)(x_train)\n",
        "x_train = np.where(x_train[:,0:1, :] == x_train[:, 1:101, :], 0, 1)\n",
        "#remove first line (reference)\n",
        "x_train = np.array(x_train)#[:,1:101,:]\n",
        "#x_train = np.vectorize(np.argsort)(x_train)\n",
        "print(x_train.shape)\n",
        "x_test = np.array(x_test)#[:,1:101,:]\n",
        "x_test = np.vectorize(transdict.get)(x_test)\n",
        "x_test = np.where(x_test[:,0:1, :] == x_test[:, 1:101, :], 0, 1)\n",
        "print(x_test.shape)\n",
        "#format data\n",
        "if K.image_data_format() == 'channels_first':\n",
        "    x_train = x_train.reshape(x_train.shape[0], 1, img_rows, img_cols)\n",
        "    x_test = x_test.reshape(x_test.shape[0], 1, img_rows, img_cols)\n",
        "    input_shape = (1, img_rows, img_cols)\n",
        "else:\n",
        "    x_train = x_train.reshape(x_train.shape[0], img_rows, img_cols, 1)\n",
        "    x_test = x_test.reshape(x_test.shape[0], img_rows, img_cols, 1)\n",
        "    input_shape = (img_rows, img_cols, 1)\n",
        "x_train = x_train.astype('float32')\n",
        "x_test = x_test.astype('float32')\n",
        "#normalise\n",
        "x_train /= 3\n",
        "x_test /= 3\n",
        "print('x_train shape:', x_train.shape)\n",
        "print(x_train.shape[0], 'train samples')\n",
        "print(x_test.shape[0], 'test samples')\n",
        "#Run Model\n",
        "# convert class vectors to binary class matrices\n",
        "y_train = keras.utils.to_categorical(y_train, num_classes)\n",
        "y_test = keras.utils.to_categorical(y_test, num_classes)\n",
        "model = Sequential()\n",
        "model.add(Conv2D(32, kernel_size=(3, 3),\n",
        "                 activation='relu',\n",
        "                 input_shape=input_shape))\n",
        "model.add(Conv2D(64, (3, 3), activation='relu'))\n",
        "model.add(MaxPooling2D(pool_size=(2, 2)))\n",
        "model.add(Dropout(0.25))\n",
        "model.add(Flatten())\n",
        "model.add(Dense(128, activation='relu'))\n",
        "model.add(Dropout(0.5))\n",
        "model.add(Dense(num_classes, activation='softmax'))\n",
        "model.compile(loss=keras.losses.categorical_crossentropy,\n",
        "              optimizer=keras.optimizers.Adadelta(),\n",
        "              metrics=['accuracy'])\n",
        "model.fit(x_train, y_train,\n",
        "          batch_size=batch_size,\n",
        "          epochs=epochs,\n",
        "          verbose=1,\n",
        "          validation_data=(x_test, y_test))\n",
        "score = model.evaluate(x_test, y_test, verbose=0)\n",
        "print('Test loss:', score[0])\n",
        "print('Test accuracy:', score[1])"
      ],
      "execution_count": 0,
      "outputs": []
    }
  ]
}