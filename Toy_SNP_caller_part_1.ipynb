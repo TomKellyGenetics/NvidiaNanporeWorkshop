{
  "nbformat": 4,
  "nbformat_minor": 0,
  "metadata": {
    "colab": {
      "name": "Toy_SNP_caller_part_1",
      "version": "0.3.2",
      "provenance": [],
      "include_colab_link": true
    },
    "kernelspec": {
      "name": "python3",
      "display_name": "Python 3"
    },
    "accelerator": "GPU"
  },
  "cells": [
    {
      "cell_type": "markdown",
      "metadata": {
        "id": "view-in-github",
        "colab_type": "text"
      },
      "source": [
        "<a href=\"https://colab.research.google.com/github/vellamike/toy_snp_caller/blob/master/Toy_SNP_caller_part_1.ipynb\" target=\"_parent\"><img src=\"https://colab.research.google.com/assets/colab-badge.svg\" alt=\"Open In Colab\"/></a>"
      ]
    },
    {
      "cell_type": "code",
      "metadata": {
        "id": "PGJaC2sPtoY8",
        "colab_type": "code",
        "colab": {}
      },
      "source": [
        "import random\n",
        "import numpy as np\n",
        "NUCLEOTIDES = \"ACGT\""
      ],
      "execution_count": 0,
      "outputs": []
    },
    {
      "cell_type": "markdown",
      "metadata": {
        "id": "UQeH0YWswtey",
        "colab_type": "text"
      },
      "source": [
        "# Function to simulate multiple sequence alignments with errors and either no SNP or heterozygous SNP"
      ]
    },
    {
      "cell_type": "code",
      "metadata": {
        "id": "BDaOD0ggttm2",
        "colab_type": "code",
        "colab": {}
      },
      "source": [
        "def simulate_alignments(reference_length=200, num_alignments = 20000, \n",
        "                        coverage = 100, p_sequencing_error=0.03):\n",
        "    alignments = []\n",
        "    mutation_types = []\n",
        "    snp_index = reference_length // 2\n",
        "    \n",
        "    for i in range(num_alignments):\n",
        "        if (i % 400 == 0):\n",
        "          print(\"Computing alignment \", i)\n",
        "        reference = [random.choice(NUCLEOTIDES) for _ in range(reference_length)]\n",
        "        reference_base_at_snp = reference[snp_index]\n",
        "        snp_base = random.choice([i for i in NUCLEOTIDES if i != reference_base_at_snp])\n",
        "        mutation_type=random.choice([0,1,2]) # 0 -> no SNP; 1 -> Homozygous SNP; 2 -> Heterozygous SNP\n",
        "        mutation_types.append(mutation_type)\n",
        "        \n",
        "        alignment = [reference]#first read is always the reference\n",
        "        for _ in range(coverage):\n",
        "            new_read = [reference[i] if random.random() > p_sequencing_error else random.choice(NUCLEOTIDES) for i in range(reference_length)]\n",
        "            \n",
        "            if mutation_type == 1: #homozygous SNP\n",
        "                new_read[snp_index] = snp_base\n",
        "            if mutation_type == 2 and random.random() > 0.5: # heterozygous SNP\n",
        "                new_read[snp_index] = snp_base\n",
        "\n",
        "            if random.random() < p_sequencing_error: #Add errors to SNP region also\n",
        "                new_read[snp_index] =  random.choice(NUCLEOTIDES)\n",
        "            alignment.append(new_read)\n",
        "        alignments.append(alignment)\n",
        "    return alignments, mutation_types"
      ],
      "execution_count": 0,
      "outputs": []
    },
    {
      "cell_type": "code",
      "metadata": {
        "id": "pD986DmYtvSN",
        "colab_type": "code",
        "outputId": "165a8032-1dea-43ed-e93d-c97e91ab67cc",
        "colab": {
          "base_uri": "https://localhost:8080/",
          "height": 102
        }
      },
      "source": [
        "# Compute 2000 alignments\n",
        "alignments, mutation_types = simulate_alignments(num_alignments=2000)\n",
        "alignments = np.array(alignments)"
      ],
      "execution_count": 0,
      "outputs": [
        {
          "output_type": "stream",
          "text": [
            "Computing alignment  0\n",
            "Computing alignment  400\n",
            "Computing alignment  800\n",
            "Computing alignment  1200\n",
            "Computing alignment  1600\n"
          ],
          "name": "stdout"
        }
      ]
    },
    {
      "cell_type": "markdown",
      "metadata": {
        "id": "1y3y129ht30z",
        "colab_type": "text"
      },
      "source": [
        "# Visualise the alignments"
      ]
    },
    {
      "cell_type": "code",
      "metadata": {
        "id": "eNTYDrvzt3K5",
        "colab_type": "code",
        "colab": {}
      },
      "source": [
        "import matplotlib.pyplot as plt\n",
        "%matplotlib inline\n"
      ],
      "execution_count": 0,
      "outputs": []
    },
    {
      "cell_type": "code",
      "metadata": {
        "id": "doQE5d7jt_EU",
        "colab_type": "code",
        "colab": {}
      },
      "source": [
        "transdict = {\"A\":0, \"C\": 1, \"G\":2, \"T\":3}\n",
        "alignments_ints = np.vectorize(transdict.get)(alignments)\n",
        "plt.rcParams['figure.dpi'] = 200"
      ],
      "execution_count": 0,
      "outputs": []
    },
    {
      "cell_type": "code",
      "metadata": {
        "id": "jyVMnxBOuBpt",
        "colab_type": "code",
        "outputId": "e4e893a9-039a-4a66-e454-6fbc9ccc0d2d",
        "colab": {
          "base_uri": "https://localhost:8080/",
          "height": 599
        }
      },
      "source": [
        "alignment_idx = 13\n",
        "plt.imshow(alignments_ints[alignment_idx],cmap='jet')\n",
        "mutation_type_names = {0: \"No mutation\",\n",
        "                 1: \"Homozygous SNP\",\n",
        "                 2: \"Heterozygous SNP\"}\n",
        "print (\"Mutation type: \", mutation_type_names[mutation_types[alignment_idx]])"
      ],
      "execution_count": 0,
      "outputs": [
        {
          "output_type": "stream",
          "text": [
            "Mutation type:  Heterozygous SNP\n"
          ],
          "name": "stdout"
        },
        {
          "output_type": "display_data",
          "data": {
            "image/png": "[encoded data removed]",
            "text/plain": [
              "<Figure size 1200x800 with 1 Axes>"
            ]
          },
          "metadata": {
            "tags": []
          }
        }
      ]
    },
    {
      "cell_type": "code",
      "metadata": {
        "id": "tMGIzujTyJm1",
        "colab_type": "code",
        "colab": {}
      },
      "source": [
        ""
      ],
      "execution_count": 0,
      "outputs": []
    }
  ]
}