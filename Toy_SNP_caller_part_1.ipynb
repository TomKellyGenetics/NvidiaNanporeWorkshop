{
 "cells": [
  {
   "cell_type": "markdown",
   "metadata": {
    "colab_type": "text",
    "id": "view-in-github"
   },
   "source": [
    "<a href=\"https://colab.research.google.com/github/vellamike/toy_snp_caller/blob/master/Toy_SNP_caller_part_1.ipynb\" target=\"_parent\"><img src=\"https://colab.research.google.com/assets/colab-badge.svg\" alt=\"Open In Colab\"/></a>"
   ]
  },
  {
   "cell_type": "code",
   "execution_count": 1,
   "metadata": {
    "colab": {},
    "colab_type": "code",
    "id": "PGJaC2sPtoY8"
   },
   "outputs": [],
   "source": [
    "import random\n",
    "import numpy as np\n",
    "NUCLEOTIDES = \"ACGT\"\n",
    "random.seed(1)"
   ]
  },
  {
   "cell_type": "markdown",
   "metadata": {
    "colab_type": "text",
    "id": "UQeH0YWswtey"
   },
   "source": [
    "# Function to simulate multiple sequence alignments with errors and either no SNP or heterozygous SNP"
   ]
  },
  {
   "cell_type": "code",
   "execution_count": 2,
   "metadata": {
    "colab": {},
    "colab_type": "code",
    "id": "BDaOD0ggttm2"
   },
   "outputs": [],
   "source": [
    "def simulate_alignments(reference_length=200, num_alignments = 20000, \n",
    "                        coverage = 100, p_sequencing_error=0.0,\n",
    "                        p_alignment_error=0.00):\n",
    "    alignments = []\n",
    "    mutation_types = []\n",
    "    \n",
    "    for i in range(num_alignments):\n",
    "        snp_index = reference_length // 2\n",
    "        if (i % 400 == 0):\n",
    "            print(\"Computing alignment \", i)\n",
    "        reference = [random.choice(NUCLEOTIDES) for _ in range(reference_length)]\n",
    "        reference_base_at_snp = reference[snp_index]\n",
    "        snp_base = random.choice([i for i in NUCLEOTIDES if i != reference_base_at_snp])\n",
    "        mutation_type=random.choice([0,1,2]) # 0 -> no SNP; 1 -> Homozygous SNP; 2 -> Heterozygous SNP\n",
    "        mutation_types.append(mutation_type)\n",
    "        \n",
    "        alignment = [reference]#first read is always the reference\n",
    "        for _ in range(coverage):\n",
    "            new_read = [reference[i] if random.random() > p_sequencing_error else random.choice(NUCLEOTIDES) for i in range(reference_length)]\n",
    "            if random.random() < p_alignment_error:\n",
    "                snp_index += random.randint(-1,2)\n",
    "            if mutation_type == 1: #homozygous SNP\n",
    "                new_read[snp_index] = snp_base\n",
    "            if mutation_type == 2 and random.random() > 0.5: # heterozygous SNP\n",
    "                new_read[snp_index] = snp_base\n",
    "\n",
    "            if random.random() < p_sequencing_error: #Add errors to SNP region also\n",
    "                new_read[snp_index] =  random.choice(NUCLEOTIDES)\n",
    "            alignment.append(new_read)\n",
    "        alignments.append(alignment)\n",
    "    return alignments, mutation_types"
   ]
  },
  {
   "cell_type": "code",
   "execution_count": null,
   "metadata": {
    "colab": {
     "base_uri": "https://localhost:8080/",
     "height": 102
    },
    "colab_type": "code",
    "id": "pD986DmYtvSN",
    "outputId": "165a8032-1dea-43ed-e93d-c97e91ab67cc"
   },
   "outputs": [
    {
     "name": "stdout",
     "output_type": "stream",
     "text": [
      "Computing alignment  0\n",
      "Computing alignment  400\n"
     ]
    }
   ],
   "source": [
    "# Compute 2000 alignments\n",
    "alignments, mutation_types = simulate_alignments(num_alignments=2000)\n",
    "alignments = np.array(alignments)"
   ]
  },
  {
   "cell_type": "markdown",
   "metadata": {
    "colab_type": "text",
    "id": "1y3y129ht30z"
   },
   "source": [
    "# Visualise the alignments"
   ]
  },
  {
   "cell_type": "code",
   "execution_count": null,
   "metadata": {
    "colab": {},
    "colab_type": "code",
    "id": "eNTYDrvzt3K5"
   },
   "outputs": [],
   "source": [
    "import matplotlib.pyplot as plt\n",
    "%matplotlib inline"
   ]
  },
  {
   "cell_type": "code",
   "execution_count": null,
   "metadata": {
    "colab": {},
    "colab_type": "code",
    "id": "doQE5d7jt_EU"
   },
   "outputs": [],
   "source": [
    "transdict = {\"A\":0, \"C\": 1, \"G\":2, \"T\":3}\n",
    "alignments_ints = np.vectorize(transdict.get)(alignments)\n",
    "plt.rcParams['figure.dpi'] = 200"
   ]
  },
  {
   "cell_type": "markdown",
   "metadata": {},
   "source": [
    "## Example one: No mutation - no  errors"
   ]
  },
  {
   "cell_type": "code",
   "execution_count": null,
   "metadata": {
    "colab": {
     "base_uri": "https://localhost:8080/",
     "height": 599
    },
    "colab_type": "code",
    "id": "jyVMnxBOuBpt",
    "outputId": "e4e893a9-039a-4a66-e454-6fbc9ccc0d2d"
   },
   "outputs": [],
   "source": [
    "alignment_idx = 1\n",
    "plt.imshow(alignments_ints[alignment_idx],cmap='jet')\n",
    "mutation_type_names = {0: \"No mutation\",\n",
    "                 1: \"Homozygous SNP\",\n",
    "                 2: \"Heterozygous SNP\"}\n",
    "print (\"Mutation type: \", mutation_type_names[mutation_types[alignment_idx]])"
   ]
  },
  {
   "cell_type": "markdown",
   "metadata": {},
   "source": [
    "## Example 2: Heterozygous mutation - no errors"
   ]
  },
  {
   "cell_type": "code",
   "execution_count": null,
   "metadata": {},
   "outputs": [],
   "source": [
    "alignment_idx = 5\n",
    "plt.imshow(alignments_ints[alignment_idx],cmap='jet')\n",
    "mutation_type_names = {0: \"No mutation\",\n",
    "                 1: \"Homozygous SNP\",\n",
    "                 2: \"Heterozygous SNP\"}\n",
    "print (\"Mutation type: \", mutation_type_names[mutation_types[alignment_idx]])"
   ]
  },
  {
   "cell_type": "markdown",
   "metadata": {},
   "source": [
    "## Example 3: Homozygous mutation - no errors"
   ]
  },
  {
   "cell_type": "code",
   "execution_count": null,
   "metadata": {},
   "outputs": [],
   "source": [
    "alignment_idx = 8\n",
    "plt.imshow(alignments_ints[alignment_idx],cmap='jet')\n",
    "mutation_type_names = {0: \"No mutation\",\n",
    "                 1: \"Homozygous SNP\",\n",
    "                 2: \"Heterozygous SNP\"}\n",
    "print (\"Mutation type: \", mutation_type_names[mutation_types[alignment_idx]])"
   ]
  },
  {
   "cell_type": "code",
   "execution_count": null,
   "metadata": {},
   "outputs": [],
   "source": [
    "# Compute 2000 alignments\n",
    "alignments, mutation_types = simulate_alignments(num_alignments=2000, p_alignment_error=0.05, p_sequencing_error=0.15)\n",
    "alignments = np.array(alignments)\n",
    "transdict = {\"A\":0, \"C\": 1, \"G\":2, \"T\":3}\n",
    "alignments_ints = np.vectorize(transdict.get)(alignments)\n",
    "plt.rcParams['figure.dpi'] = 200"
   ]
  },
  {
   "cell_type": "markdown",
   "metadata": {},
   "source": [
    "# Example 4: No mutations, sequencing and error"
   ]
  },
  {
   "cell_type": "code",
   "execution_count": null,
   "metadata": {},
   "outputs": [],
   "source": [
    "alignment_idx = 3\n",
    "plt.imshow(alignments_ints[alignment_idx],cmap='jet')\n",
    "mutation_type_names = {0: \"No mutation\",\n",
    "                 1: \"Homozygous SNP\",\n",
    "                 2: \"Heterozygous SNP\"}\n",
    "print (\"Mutation type: \", mutation_type_names[mutation_types[alignment_idx]])"
   ]
  },
  {
   "cell_type": "markdown",
   "metadata": {
    "colab": {},
    "colab_type": "code",
    "id": "tMGIzujTyJm1"
   },
   "source": [
    "# Exercises\n",
    "\n",
    "1. Wite a neural network to classify SNPs into homozygous, heterozygous and no mutaiton in the absence of no errors\n",
    "2. Measure its robustness to sequencing error\n",
    "3. Measure its robustness to \"alignment error\"\n",
    "4. How well does a model trained on one error rate perform on another? Can this be improved? How?"
   ]
  },
  {
   "cell_type": "code",
   "execution_count": null,
   "metadata": {},
   "outputs": [],
   "source": []
  }
 ],
 "metadata": {
  "accelerator": "GPU",
  "colab": {
   "include_colab_link": true,
   "name": "Toy_SNP_caller_part_1",
   "provenance": [],
   "version": "0.3.2"
  },
  "kernelspec": {
   "display_name": "Python 3",
   "language": "python",
   "name": "python3"
  },
  "language_info": {
   "codemirror_mode": {
    "name": "ipython",
    "version": 3
   },
   "file_extension": ".py",
   "mimetype": "text/x-python",
   "name": "python",
   "nbconvert_exporter": "python",
   "pygments_lexer": "ipython3",
   "version": "3.7.4"
  }
 },
 "nbformat": 4,
 "nbformat_minor": 1
}
